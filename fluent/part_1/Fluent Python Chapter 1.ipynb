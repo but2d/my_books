{
 "cells": [
  {
   "cell_type": "markdown",
   "metadata": {
    "collapsed": true
   },
   "source": [
    "# First Part"
   ]
  },
  {
   "cell_type": "markdown",
   "metadata": {
    "collapsed": true
   },
   "source": [
    "## Глава 1"
   ]
  },
  {
   "cell_type": "markdown",
   "metadata": {
    "collapsed": true
   },
   "source": [
    "### Модель данных в языке Python"
   ]
  },
  {
   "cell_type": "markdown",
   "metadata": {
    "collapsed": true
   },
   "source": [
    "##### Модель данных - общие свойства объектов в конкретном языке."
   ]
  },
  {
   "cell_type": "code",
   "execution_count": 3,
   "metadata": {
    "collapsed": true
   },
   "outputs": [],
   "source": [
    "# Модель данных описывает Python как каркас: \n",
    "#     формализует структурные блоки языка."
   ]
  },
  {
   "cell_type": "code",
   "execution_count": 5,
   "metadata": {
    "collapsed": true
   },
   "outputs": [],
   "source": [
    "# Специальные методы имеют следующий синтаксис: '__method_name__'.\n",
    "\n",
    "# За конструкцией obj[key] стоит метод '__getitem__',\n",
    "#     для вычисления my_collection[key] \n",
    "#         вызывается метод my_collection.__getitem__(key)."
   ]
  },
  {
   "cell_type": "code",
   "execution_count": 7,
   "metadata": {
    "collapsed": true
   },
   "outputs": [],
   "source": [
    "# Базовые конструкции языка включают в себя:\n",
    "#     - итерирование;\n",
    "#     - коллекции;\n",
    "#     - доступ к аттрибутам;\n",
    "#     - перегрузка операторов;\n",
    "#     - вызов функций и методов;\n",
    "#     - создание и уничтожение объектов;\n",
    "#     - представление и форматирование строк;\n",
    "#     - управляемые контексты (=блоки with)."
   ]
  },
  {
   "cell_type": "code",
   "execution_count": 8,
   "metadata": {
    "collapsed": true
   },
   "outputs": [],
   "source": [
    "# Специальные методы называют магическими;\n",
    "# Некоторые методы, такие как __getitem__, называют \"dunder-item\""
   ]
  },
  {
   "cell_type": "markdown",
   "metadata": {
    "collapsed": true
   },
   "source": [
    "### Колода карт на Python"
   ]
  },
  {
   "cell_type": "markdown",
   "metadata": {
    "collapsed": true
   },
   "source": [
    "##### Колода как последовательность карт"
   ]
  },
  {
   "cell_type": "code",
   "execution_count": 17,
   "metadata": {
    "collapsed": true
   },
   "outputs": [],
   "source": [
    "import collections\n",
    "\n",
    "Card = collections.namedtuple('Card', ['rank', 'suit']) # класс с одной картой\n",
    "# namedtuple можно использовать для создания классов, \n",
    "#     содержащих только атрибуты (без методов)\n",
    "\n",
    "class FrenchDeck:\n",
    "    \n",
    "    ranks = [str(n) for n in range(2, 11)] + list('JQKA')\n",
    "    suits = 'spades diamonds clubs hearts'.split()\n",
    "    \n",
    "    def __init__(self):\n",
    "        self._cards = [Card(rank, suit) for suit in self.suits\n",
    "                                        for rank in self.ranks]\n",
    "    \n",
    "    def __len__(self):\n",
    "        return len(self._cards)\n",
    "    \n",
    "    def __getitem__(self, position):\n",
    "        return self._cards[position]    "
   ]
  },
  {
   "cell_type": "code",
   "execution_count": 18,
   "metadata": {
    "collapsed": false
   },
   "outputs": [
    {
     "data": {
      "text/plain": [
       "Card(rank='7', suit='diamonods')"
      ]
     },
     "execution_count": 18,
     "metadata": {},
     "output_type": "execute_result"
    }
   ],
   "source": [
    "beer_card = Card('7', 'diamonods')\n",
    "beer_card"
   ]
  },
  {
   "cell_type": "code",
   "execution_count": 19,
   "metadata": {
    "collapsed": false
   },
   "outputs": [
    {
     "data": {
      "text/plain": [
       "52"
      ]
     },
     "execution_count": 19,
     "metadata": {},
     "output_type": "execute_result"
    }
   ],
   "source": [
    "deck = FrenchDeck()\n",
    "len(deck)"
   ]
  },
  {
   "cell_type": "code",
   "execution_count": 22,
   "metadata": {
    "collapsed": false
   },
   "outputs": [
    {
     "data": {
      "text/plain": [
       "Card(rank='2', suit='spades')"
      ]
     },
     "execution_count": 22,
     "metadata": {},
     "output_type": "execute_result"
    }
   ],
   "source": [
    "deck[0]"
   ]
  },
  {
   "cell_type": "code",
   "execution_count": 23,
   "metadata": {
    "collapsed": false
   },
   "outputs": [
    {
     "data": {
      "text/plain": [
       "Card(rank='A', suit='hearts')"
      ]
     },
     "execution_count": 23,
     "metadata": {},
     "output_type": "execute_result"
    }
   ],
   "source": [
    "deck[-1]"
   ]
  },
  {
   "cell_type": "code",
   "execution_count": 26,
   "metadata": {
    "collapsed": false
   },
   "outputs": [
    {
     "data": {
      "text/plain": [
       "Card(rank='6', suit='spades')"
      ]
     },
     "execution_count": 26,
     "metadata": {},
     "output_type": "execute_result"
    }
   ],
   "source": [
    "from random import choice # модуль для выбора случайной карты\n",
    "choice(deck)"
   ]
  },
  {
   "cell_type": "markdown",
   "metadata": {
    "collapsed": true
   },
   "source": [
    "##### Преимущества использования специальных методов:"
   ]
  },
  {
   "cell_type": "code",
   "execution_count": 43,
   "metadata": {
    "collapsed": true
   },
   "outputs": [],
   "source": [
    "#     - Пользователям класса нет нужды запоминать нестандартные имена методов \n",
    "#           для выполнения стандартных операций;\n",
    "\n",
    "#     - Нам нет нужды изобретать велосипед, \n",
    "#           когда есть инструменты стандартной библиотеки;\n",
    "\n",
    "#     - Благодаря методу __getitem__ объект - колода - \n",
    "#           автоматически поддерживает срезы и итерирование."
   ]
  },
  {
   "cell_type": "code",
   "execution_count": 28,
   "metadata": {
    "collapsed": false
   },
   "outputs": [
    {
     "data": {
      "text/plain": [
       "[Card(rank='2', suit='spades'),\n",
       " Card(rank='3', suit='spades'),\n",
       " Card(rank='4', suit='spades')]"
      ]
     },
     "execution_count": 28,
     "metadata": {},
     "output_type": "execute_result"
    }
   ],
   "source": [
    "deck[:3]"
   ]
  },
  {
   "cell_type": "code",
   "execution_count": 29,
   "metadata": {
    "collapsed": false
   },
   "outputs": [
    {
     "data": {
      "text/plain": [
       "[Card(rank='A', suit='spades'),\n",
       " Card(rank='A', suit='diamonds'),\n",
       " Card(rank='A', suit='clubs'),\n",
       " Card(rank='A', suit='hearts')]"
      ]
     },
     "execution_count": 29,
     "metadata": {},
     "output_type": "execute_result"
    }
   ],
   "source": [
    "deck[12::13]"
   ]
  },
  {
   "cell_type": "code",
   "execution_count": 32,
   "metadata": {
    "collapsed": true
   },
   "outputs": [
    {
     "name": "stdout",
     "output_type": "stream",
     "text": [
      "Card(rank='2', suit='spades') Card(rank='3', suit='spades') Card(rank='4', suit='spades') Card(rank='5', suit='spades') Card(rank='6', suit='spades') Card(rank='7', suit='spades') Card(rank='8', suit='spades') Card(rank='9', suit='spades') Card(rank='10', suit='spades') Card(rank='J', suit='spades') Card(rank='Q', suit='spades') Card(rank='K', suit='spades') Card(rank='A', suit='spades') Card(rank='2', suit='diamonds') Card(rank='3', suit='diamonds') Card(rank='4', suit='diamonds') Card(rank='5', suit='diamonds') Card(rank='6', suit='diamonds') Card(rank='7', suit='diamonds') Card(rank='8', suit='diamonds') Card(rank='9', suit='diamonds') Card(rank='10', suit='diamonds') Card(rank='J', suit='diamonds') Card(rank='Q', suit='diamonds') Card(rank='K', suit='diamonds') Card(rank='A', suit='diamonds') Card(rank='2', suit='clubs') Card(rank='3', suit='clubs') Card(rank='4', suit='clubs') Card(rank='5', suit='clubs') Card(rank='6', suit='clubs') Card(rank='7', suit='clubs') Card(rank='8', suit='clubs') Card(rank='9', suit='clubs') Card(rank='10', suit='clubs') Card(rank='J', suit='clubs') Card(rank='Q', suit='clubs') Card(rank='K', suit='clubs') Card(rank='A', suit='clubs') Card(rank='2', suit='hearts') Card(rank='3', suit='hearts') Card(rank='4', suit='hearts') Card(rank='5', suit='hearts') Card(rank='6', suit='hearts') Card(rank='7', suit='hearts') Card(rank='8', suit='hearts') Card(rank='9', suit='hearts') Card(rank='10', suit='hearts') Card(rank='J', suit='hearts') Card(rank='Q', suit='hearts') Card(rank='K', suit='hearts') Card(rank='A', suit='hearts') "
     ]
    }
   ],
   "source": [
    "for card in deck:\n",
    "    print(card, end=' ')"
   ]
  },
  {
   "cell_type": "code",
   "execution_count": 31,
   "metadata": {
    "collapsed": true
   },
   "outputs": [
    {
     "name": "stdout",
     "output_type": "stream",
     "text": [
      "Card(rank='A', suit='hearts') Card(rank='K', suit='hearts') Card(rank='Q', suit='hearts') Card(rank='J', suit='hearts') Card(rank='10', suit='hearts') Card(rank='9', suit='hearts') Card(rank='8', suit='hearts') Card(rank='7', suit='hearts') Card(rank='6', suit='hearts') Card(rank='5', suit='hearts') Card(rank='4', suit='hearts') Card(rank='3', suit='hearts') Card(rank='2', suit='hearts') Card(rank='A', suit='clubs') Card(rank='K', suit='clubs') Card(rank='Q', suit='clubs') Card(rank='J', suit='clubs') Card(rank='10', suit='clubs') Card(rank='9', suit='clubs') Card(rank='8', suit='clubs') Card(rank='7', suit='clubs') Card(rank='6', suit='clubs') Card(rank='5', suit='clubs') Card(rank='4', suit='clubs') Card(rank='3', suit='clubs') Card(rank='2', suit='clubs') Card(rank='A', suit='diamonds') Card(rank='K', suit='diamonds') Card(rank='Q', suit='diamonds') Card(rank='J', suit='diamonds') Card(rank='10', suit='diamonds') Card(rank='9', suit='diamonds') Card(rank='8', suit='diamonds') Card(rank='7', suit='diamonds') Card(rank='6', suit='diamonds') Card(rank='5', suit='diamonds') Card(rank='4', suit='diamonds') Card(rank='3', suit='diamonds') Card(rank='2', suit='diamonds') Card(rank='A', suit='spades') Card(rank='K', suit='spades') Card(rank='Q', suit='spades') Card(rank='J', suit='spades') Card(rank='10', suit='spades') Card(rank='9', suit='spades') Card(rank='8', suit='spades') Card(rank='7', suit='spades') Card(rank='6', suit='spades') Card(rank='5', suit='spades') Card(rank='4', suit='spades') Card(rank='3', suit='spades') Card(rank='2', suit='spades') "
     ]
    }
   ],
   "source": [
    "for card in reversed(deck):\n",
    "    print(card, end=' ')"
   ]
  },
  {
   "cell_type": "code",
   "execution_count": 33,
   "metadata": {
    "collapsed": false
   },
   "outputs": [
    {
     "data": {
      "text/plain": [
       "True"
      ]
     },
     "execution_count": 33,
     "metadata": {},
     "output_type": "execute_result"
    }
   ],
   "source": [
    "Card('Q', 'hearts') in deck  # оператор in работает, тк класс итерируемый"
   ]
  },
  {
   "cell_type": "code",
   "execution_count": 36,
   "metadata": {
    "collapsed": false
   },
   "outputs": [
    {
     "data": {
      "text/plain": [
       "False"
      ]
     },
     "execution_count": 36,
     "metadata": {},
     "output_type": "execute_result"
    }
   ],
   "source": [
    "Card('7', 'beasts') in deck"
   ]
  },
  {
   "cell_type": "code",
   "execution_count": 41,
   "metadata": {
    "collapsed": false
   },
   "outputs": [],
   "source": [
    "suit_values = dict(spades=3, hearts=2, diamonds=1, clubs=0)\n",
    "\n",
    "def spades_high(card):\n",
    "    rank_value = FrenchDeck.ranks.index(card.rank)\n",
    "    return rank_value * len(suit_values) + suit_values[card.suit]"
   ]
  },
  {
   "cell_type": "code",
   "execution_count": 42,
   "metadata": {
    "collapsed": true
   },
   "outputs": [
    {
     "name": "stdout",
     "output_type": "stream",
     "text": [
      "Card(rank='2', suit='clubs')\n",
      "Card(rank='2', suit='diamonds')\n",
      "Card(rank='2', suit='hearts')\n",
      "Card(rank='2', suit='spades')\n",
      "Card(rank='3', suit='clubs')\n",
      "Card(rank='3', suit='diamonds')\n",
      "Card(rank='3', suit='hearts')\n",
      "Card(rank='3', suit='spades')\n",
      "Card(rank='4', suit='clubs')\n",
      "Card(rank='4', suit='diamonds')\n",
      "Card(rank='4', suit='hearts')\n",
      "Card(rank='4', suit='spades')\n",
      "Card(rank='5', suit='clubs')\n",
      "Card(rank='5', suit='diamonds')\n",
      "Card(rank='5', suit='hearts')\n",
      "Card(rank='5', suit='spades')\n",
      "Card(rank='6', suit='clubs')\n",
      "Card(rank='6', suit='diamonds')\n",
      "Card(rank='6', suit='hearts')\n",
      "Card(rank='6', suit='spades')\n",
      "Card(rank='7', suit='clubs')\n",
      "Card(rank='7', suit='diamonds')\n",
      "Card(rank='7', suit='hearts')\n",
      "Card(rank='7', suit='spades')\n",
      "Card(rank='8', suit='clubs')\n",
      "Card(rank='8', suit='diamonds')\n",
      "Card(rank='8', suit='hearts')\n",
      "Card(rank='8', suit='spades')\n",
      "Card(rank='9', suit='clubs')\n",
      "Card(rank='9', suit='diamonds')\n",
      "Card(rank='9', suit='hearts')\n",
      "Card(rank='9', suit='spades')\n",
      "Card(rank='10', suit='clubs')\n",
      "Card(rank='10', suit='diamonds')\n",
      "Card(rank='10', suit='hearts')\n",
      "Card(rank='10', suit='spades')\n",
      "Card(rank='J', suit='clubs')\n",
      "Card(rank='J', suit='diamonds')\n",
      "Card(rank='J', suit='hearts')\n",
      "Card(rank='J', suit='spades')\n",
      "Card(rank='Q', suit='clubs')\n",
      "Card(rank='Q', suit='diamonds')\n",
      "Card(rank='Q', suit='hearts')\n",
      "Card(rank='Q', suit='spades')\n",
      "Card(rank='K', suit='clubs')\n",
      "Card(rank='K', suit='diamonds')\n",
      "Card(rank='K', suit='hearts')\n",
      "Card(rank='K', suit='spades')\n",
      "Card(rank='A', suit='clubs')\n",
      "Card(rank='A', suit='diamonds')\n",
      "Card(rank='A', suit='hearts')\n",
      "Card(rank='A', suit='spades')\n"
     ]
    }
   ],
   "source": [
    "for card in sorted(deck, key=spades_high): \n",
    "    # вследствие реализации специальных методов\n",
    "    #     __len__ и __getitem__ класс FrenchDeck ведет себя\n",
    "    #         как стандартная последовательность, и позволяет использовать:\n",
    "    #             - базовые средства языка:\n",
    "    #                   - итерирование;\n",
    "    #                   - получение среза...\n",
    "    #             - функцию reversed;\n",
    "    #             - функцию sorted.\n",
    "    print(card)"
   ]
  },
  {
   "cell_type": "code",
   "execution_count": null,
   "metadata": {
    "collapsed": true
   },
   "outputs": [],
   "source": [
    "# В текущей реализации объект класса FrenchDeck нельзф перетасовать,\n",
    "#     тк он неизменяемый:\n",
    "#         ни карты, ни их позицию невозможно изменить,\n",
    "#             не нарушая инкапсуляцию (т.е. манипилируя атрибутом _cards)"
   ]
  },
  {
   "cell_type": "markdown",
   "metadata": {
    "collapsed": true
   },
   "source": [
    "### Как реализуются специальные методы"
   ]
  },
  {
   "cell_type": "markdown",
   "metadata": {
    "collapsed": true
   },
   "source": [
    "##### Специальные методы предназначены для вызова интерпретатором, а не нами"
   ]
  },
  {
   "cell_type": "code",
   "execution_count": null,
   "metadata": {
    "collapsed": true
   },
   "outputs": [],
   "source": [
    "# Нам достаточно написать len(my_object), \n",
    "#     и при правильной реализации \n",
    "#         интерпретатор вызовет метод экземпляра __len__."
   ]
  },
  {
   "cell_type": "code",
   "execution_count": 44,
   "metadata": {
    "collapsed": true
   },
   "outputs": [],
   "source": [
    "# Для встроенных классов (таких, как str, list, ...) \n",
    "#     интерпретатор вызывает значение ob_size C-структуры PyVarObject,\n",
    "#         которой является любой встроенный объект в памяти."
   ]
  },
  {
   "cell_type": "markdown",
   "metadata": {
    "collapsed": true
   },
   "source": [
    "##### Специальные методы вызываются неявно."
   ]
  },
  {
   "cell_type": "code",
   "execution_count": 46,
   "metadata": {
    "collapsed": true
   },
   "outputs": [],
   "source": [
    "# Например, for i in x: вызывает функцию iter(x),\n",
    "#     которая вызывает метод x.__iter__() (если он реализован)."
   ]
  },
  {
   "cell_type": "code",
   "execution_count": null,
   "metadata": {
    "collapsed": true
   },
   "outputs": [],
   "source": [
    "# Единственный регулярно вызываемый пользователем специальный метод - \n",
    "#     __init__, служащий для инициализации класса."
   ]
  },
  {
   "cell_type": "markdown",
   "metadata": {
    "collapsed": true
   },
   "source": [
    "### Эмуляция числовых типов"
   ]
  },
  {
   "cell_type": "code",
   "execution_count": null,
   "metadata": {
    "collapsed": true
   },
   "outputs": [],
   "source": [
    "# Некоторые специальные методы \n",
    "#     позволяют объектам иметь операторы (такие, как +)"
   ]
  },
  {
   "cell_type": "code",
   "execution_count": null,
   "metadata": {
    "collapsed": true
   },
   "outputs": [],
   "source": [
    "from math import hypot\n",
    "\n",
    "class Vector:\n",
    "    \n",
    "    def __init__(self, x=0, y=0):\n",
    "        self.x = x\n",
    "        self.y = y\n",
    "    \n",
    "    def __repr__(self):\n",
    "        return 'Vector(%r, %r)' % (self.x, self.y)\n",
    "    \n",
    "    def __abs__(self):\n",
    "        return hypot(self.x, self.y)\n",
    "    \n",
    "    def __bool__(self):\n",
    "        return bool(abs(self))\n",
    "    \n",
    "    def __add__(self, other):\n",
    "        x = self.x + other.x\n",
    "        y = self.y + other.y\n",
    "        return Vector(x, y)\n",
    "    \n",
    "    def __mul__(self, scalar):\n",
    "        return Vector(self.x  * scalar, self.y * scalar)"
   ]
  },
  {
   "cell_type": "markdown",
   "metadata": {
    "collapsed": true
   },
   "source": [
    "### Строковое представление"
   ]
  },
  {
   "cell_type": "code",
   "execution_count": null,
   "metadata": {
    "collapsed": true
   },
   "outputs": [],
   "source": [
    "# Специальный метод __repr__ вызывается встроенной функцией repr \n",
    "#     для получения строкового представления объекта.\n",
    "\n",
    "# Без него объект классса Vector был бы представлен\n",
    "#     строкой вида <Vector object at 0x...>."
   ]
  },
  {
   "cell_type": "code",
   "execution_count": 51,
   "metadata": {
    "collapsed": true
   },
   "outputs": [],
   "source": [
    "# Для форматирования строк используется оператор % и метод str.format.\n",
    "\n",
    "# Если последний не вызывает вопросов, то с первым у меня проблемы.\n",
    "# Пока есть возможность, нужно подучить оператор %!"
   ]
  },
  {
   "cell_type": "code",
   "execution_count": 52,
   "metadata": {
    "collapsed": true
   },
   "outputs": [],
   "source": [
    "# В реализации __repr__ мы используем %r для получения\n",
    "#     стандартного представления отображаемых атрибутов."
   ]
  },
  {
   "cell_type": "markdown",
   "metadata": {
    "collapsed": true
   },
   "source": [
    "### Арифметические операторы "
   ]
  },
  {
   "cell_type": "code",
   "execution_count": null,
   "metadata": {
    "collapsed": true
   },
   "outputs": [],
   "source": [
    "# В нашем примере реализованы два оператора: + и * , \n",
    "#     методами __add__ и __mul__ соответственно.\n",
    "\n",
    "# Оба метода создают и возвращают ноывый экземпляр Vector,\n",
    "#     не модифицируя аргументы операции."
   ]
  },
  {
   "cell_type": "markdown",
   "metadata": {
    "collapsed": true
   },
   "source": [
    "### Булево значение пользовательского типа"
   ]
  },
  {
   "cell_type": "code",
   "execution_count": null,
   "metadata": {
    "collapsed": true
   },
   "outputs": [],
   "source": [
    "# Любой объект пользовательского класса считается истинным по умолчанию.\n",
    "# Если реализован метод __bool__ или __len__, то может быть ложным:\n",
    "#     - Если метод __bool__ реализован и вернул False;\n",
    "#     - Если метод __bool__ не реализован, и __len__ вернул 0.\n",
    "\n",
    "# В нашей реализации метод возвращает False, если модуль вектора равен 0."
   ]
  },
  {
   "cell_type": "markdown",
   "metadata": {
    "collapsed": true
   },
   "source": [
    "### Специальные методы Python"
   ]
  },
  {
   "cell_type": "code",
   "execution_count": null,
   "metadata": {
    "collapsed": true
   },
   "outputs": [],
   "source": [
    "# Python включает в себя 83 специльных метода, \n",
    "#     из которых 47 реализуют операторы."
   ]
  },
  {
   "cell_type": "markdown",
   "metadata": {},
   "source": [
    "#### Специальные методы (без операторов)"
   ]
  },
  {
   "cell_type": "markdown",
   "metadata": {
    "collapsed": true
   },
   "source": [
    "##### Представление в виде строк и байтов:"
   ]
  },
  {
   "cell_type": "code",
   "execution_count": 3,
   "metadata": {
    "collapsed": true
   },
   "outputs": [],
   "source": [
    "# __repr__\n",
    "# __str__\n",
    "# __format__\n",
    "# __bytes__"
   ]
  },
  {
   "cell_type": "markdown",
   "metadata": {
    "collapsed": true
   },
   "source": [
    "##### Преобразование в число:"
   ]
  },
  {
   "cell_type": "code",
   "execution_count": 4,
   "metadata": {
    "collapsed": true
   },
   "outputs": [],
   "source": [
    "# __abs__\n",
    "# __bool__\n",
    "# __complex__\n",
    "# __int__\n",
    "# __float__\n",
    "# __hash__\n",
    "# __index__"
   ]
  },
  {
   "cell_type": "markdown",
   "metadata": {
    "collapsed": true
   },
   "source": [
    "##### Эмуляция коллекций:"
   ]
  },
  {
   "cell_type": "code",
   "execution_count": 6,
   "metadata": {
    "collapsed": true
   },
   "outputs": [],
   "source": [
    "# __len__\n",
    "# __getitem__\n",
    "# __setitem__\n",
    "# __delitem__\n",
    "# __contains__"
   ]
  },
  {
   "cell_type": "markdown",
   "metadata": {
    "collapsed": true
   },
   "source": [
    "##### Итерирование:"
   ]
  },
  {
   "cell_type": "code",
   "execution_count": 8,
   "metadata": {
    "collapsed": true
   },
   "outputs": [],
   "source": [
    "# __iter__\n",
    "# __reversed__\n",
    "# __next__"
   ]
  },
  {
   "cell_type": "markdown",
   "metadata": {},
   "source": [
    "##### Эмуляция объектов, допускающих вызов:"
   ]
  },
  {
   "cell_type": "code",
   "execution_count": 9,
   "metadata": {
    "collapsed": true
   },
   "outputs": [],
   "source": [
    "# __call__"
   ]
  },
  {
   "cell_type": "markdown",
   "metadata": {},
   "source": [
    "##### Управление контекстом:"
   ]
  },
  {
   "cell_type": "code",
   "execution_count": 11,
   "metadata": {
    "collapsed": true
   },
   "outputs": [],
   "source": [
    "# __enter__\n",
    "# __exit__"
   ]
  },
  {
   "cell_type": "markdown",
   "metadata": {},
   "source": [
    "##### Создание и уничтожение объектов:"
   ]
  },
  {
   "cell_type": "code",
   "execution_count": 13,
   "metadata": {
    "collapsed": true
   },
   "outputs": [],
   "source": [
    "# __new__\n",
    "# __init__\n",
    "# __del__"
   ]
  },
  {
   "cell_type": "markdown",
   "metadata": {},
   "source": [
    "##### Управление атрибутами:"
   ]
  },
  {
   "cell_type": "code",
   "execution_count": 15,
   "metadata": {
    "collapsed": true
   },
   "outputs": [],
   "source": [
    "# __getattr__\n",
    "# __getattribute__\n",
    "# __setattr__\n",
    "# __delattr__\n",
    "# __dir__"
   ]
  },
  {
   "cell_type": "markdown",
   "metadata": {},
   "source": [
    "##### Дескрипторы атрибутов:"
   ]
  },
  {
   "cell_type": "code",
   "execution_count": 17,
   "metadata": {
    "collapsed": true
   },
   "outputs": [],
   "source": [
    "# __get__\n",
    "# __set__\n",
    "# __delete__"
   ]
  },
  {
   "cell_type": "markdown",
   "metadata": {},
   "source": [
    "##### Сервисы классов:"
   ]
  },
  {
   "cell_type": "code",
   "execution_count": 19,
   "metadata": {
    "collapsed": true
   },
   "outputs": [],
   "source": [
    "# __prepare__\n",
    "# __instancecheck__\n",
    "# __subklasscheck__"
   ]
  },
  {
   "cell_type": "markdown",
   "metadata": {},
   "source": [
    "#### Специальные методы для операторов"
   ]
  },
  {
   "cell_type": "markdown",
   "metadata": {},
   "source": [
    "##### Унарные числовые операторы:"
   ]
  },
  {
   "cell_type": "code",
   "execution_count": 24,
   "metadata": {
    "collapsed": true
   },
   "outputs": [],
   "source": [
    "# __neg__ -\n",
    "# __pos__ +\n",
    "# __abs__ abs()"
   ]
  },
  {
   "cell_type": "markdown",
   "metadata": {},
   "source": [
    "##### Операторы сравнения:"
   ]
  },
  {
   "cell_type": "code",
   "execution_count": 27,
   "metadata": {
    "collapsed": true
   },
   "outputs": [],
   "source": [
    "# __lt__ <\n",
    "# __le__ <=\n",
    "# __eq__ ==\n",
    "# __ne__ !=\n",
    "# __gt__ >\n",
    "# __ge__ >="
   ]
  },
  {
   "cell_type": "markdown",
   "metadata": {},
   "source": [
    "##### Арифметические операторы:"
   ]
  },
  {
   "cell_type": "code",
   "execution_count": 29,
   "metadata": {
    "collapsed": true
   },
   "outputs": [],
   "source": [
    "# __add__ +\n",
    "# __sub__ -\n",
    "# __mul__ *\n",
    "# __truediv__ /\n",
    "# __floordiv__ //\n",
    "# __mod__ %\n",
    "# __divmod__ divmod()\n",
    "# __pow__ ** or pow()\n",
    "# __round__ round()"
   ]
  },
  {
   "cell_type": "markdown",
   "metadata": {},
   "source": [
    "##### Инверсивные арифметические операторы:"
   ]
  },
  {
   "cell_type": "code",
   "execution_count": null,
   "metadata": {
    "collapsed": true
   },
   "outputs": [],
   "source": [
    "# Used when the right-hand operand supports the operation \n",
    "#     but the left-hand operand doesn't."
   ]
  },
  {
   "cell_type": "code",
   "execution_count": 31,
   "metadata": {
    "collapsed": true
   },
   "outputs": [],
   "source": [
    "# __radd__ \n",
    "# __rsub__ \n",
    "# __rmul__\n",
    "# __rtruediv__\n",
    "# __rfloordiv__ \n",
    "# __rmod__\n",
    "# __rdivmod__\n",
    "# __rpow__"
   ]
  },
  {
   "cell_type": "markdown",
   "metadata": {},
   "source": [
    "##### Арифметические операторы присваивания:"
   ]
  },
  {
   "cell_type": "code",
   "execution_count": 33,
   "metadata": {
    "collapsed": true
   },
   "outputs": [],
   "source": [
    "# __iadd__ +=\n",
    "# __isub__ -=\n",
    "# __imul__ *=\n",
    "# __itruediv__ /=\n",
    "# __ifloordiv__ //=\n",
    "# __imod__ %=\n",
    "# __ipow__ **="
   ]
  },
  {
   "cell_type": "markdown",
   "metadata": {
    "collapsed": true
   },
   "source": [
    "##### Подразрядные операторы:"
   ]
  },
  {
   "cell_type": "code",
   "execution_count": null,
   "metadata": {
    "collapsed": true
   },
   "outputs": [],
   "source": [
    "# __invert__ ~ \n",
    "\"\"\"\n",
    "a => 0000 0000 0000 0001 => 1\n",
    "~a  => 1111 1111 1111 1110 => -2\n",
    "~n = -n - 1\n",
    "more: https://bit.ly/2ZFV5L9\n",
    "\"\"\"\n",
    "# __lshift__ <<\n",
    "\"\"\"\n",
    "a << n => a * 2^n\n",
    "\"\"\"\n",
    "# __rshift__ >>\n",
    "\"\"\"\n",
    "a >> n => a / 2^n\n",
    "\"\"\"\n",
    "# __and__ &\n",
    "# __or__ |\n",
    "# __xor__ ^\n",
    "\"\"\"\n",
    "a ^ b => (a and not b) or (not a and b)\n",
    "\"\"\""
   ]
  },
  {
   "cell_type": "markdown",
   "metadata": {
    "collapsed": true
   },
   "source": [
    "##### Инверсные подразрядные операторы:"
   ]
  },
  {
   "cell_type": "code",
   "execution_count": 44,
   "metadata": {
    "collapsed": true
   },
   "outputs": [],
   "source": [
    "# Used when the right-hand operand supports the operation \n",
    "#     but the left-hand operand doesn't."
   ]
  },
  {
   "cell_type": "code",
   "execution_count": 36,
   "metadata": {
    "collapsed": true
   },
   "outputs": [],
   "source": [
    "# __rlshift__\n",
    "# __rrshift__\n",
    "# __rand__\n",
    "# __rxor__\n",
    "# __ror__"
   ]
  },
  {
   "cell_type": "markdown",
   "metadata": {},
   "source": [
    "##### Подразрдные операторы составного присваивания:"
   ]
  },
  {
   "cell_type": "code",
   "execution_count": null,
   "metadata": {
    "collapsed": true
   },
   "outputs": [],
   "source": [
    "# __ilshift__ <<=\n",
    "# __irshift__ >>=\n",
    "# __iand__ &=\n",
    "# __ixor__ ^=\n",
    "# __ior__ |="
   ]
  },
  {
   "cell_type": "markdown",
   "metadata": {},
   "source": [
    "### Len - не метод"
   ]
  },
  {
   "cell_type": "code",
   "execution_count": null,
   "metadata": {
    "collapsed": true
   },
   "outputs": [],
   "source": [
    "# len не вызывается как метод, потому что играет особую роль, как abs.\n",
    "\n",
    "# Специальный метод __len__ вызывает функцию len для пользовательских объектов."
   ]
  },
  {
   "cell_type": "markdown",
   "metadata": {},
   "source": [
    "### Резюме"
   ]
  },
  {
   "cell_type": "code",
   "execution_count": 40,
   "metadata": {
    "collapsed": true
   },
   "outputs": [],
   "source": [
    "# Благодаря реализации специальных методов\n",
    "#     пользовательские объекты могут вести себя как встроенные типы.\n",
    "\n",
    "# Такой тип кодирования считается \"питоническим\"."
   ]
  },
  {
   "cell_type": "code",
   "execution_count": null,
   "metadata": {
    "collapsed": true
   },
   "outputs": [],
   "source": [
    "# Объект должен обеспечить полезные строковые представления себя:\n",
    "#     - Одно - для отладки, __repr__;\n",
    "#     - Другое - для показа пользователям, __str__."
   ]
  },
  {
   "cell_type": "markdown",
   "metadata": {},
   "source": [
    "##### Метаобъекты - объекты, являющиеся структурными элементами самого языка."
   ]
  }
 ],
 "metadata": {
  "anaconda-cloud": {},
  "kernelspec": {
   "display_name": "Python [default]",
   "language": "python",
   "name": "python3"
  },
  "language_info": {
   "codemirror_mode": {
    "name": "ipython",
    "version": 3
   },
   "file_extension": ".py",
   "mimetype": "text/x-python",
   "name": "python",
   "nbconvert_exporter": "python",
   "pygments_lexer": "ipython3",
   "version": "3.5.2"
  }
 },
 "nbformat": 4,
 "nbformat_minor": 1
}
