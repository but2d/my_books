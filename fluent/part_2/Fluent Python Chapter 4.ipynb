{
 "cells": [
  {
   "cell_type": "markdown",
   "metadata": {
    "collapsed": true
   },
   "source": [
    "# Second Part"
   ]
  },
  {
   "cell_type": "markdown",
   "metadata": {
    "collapsed": true
   },
   "source": [
    "## Глава 4 "
   ]
  },
  {
   "cell_type": "markdown",
   "metadata": {
    "collapsed": true
   },
   "source": [
    "### Текст и байты"
   ]
  },
  {
   "cell_type": "code",
   "execution_count": 5,
   "metadata": {
    "collapsed": true
   },
   "outputs": [],
   "source": [
    "# Как бы мы не хотели, от различий между str и bytes никуда не деться;\n",
    "\n",
    "# Зато специализированные типы двоичных последовательностей\n",
    "#     обладают возможностями, которых нет у str!"
   ]
  },
  {
   "cell_type": "code",
   "execution_count": 6,
   "metadata": {
    "collapsed": true
   },
   "outputs": [],
   "source": [
    "# В этой главе будут рассмотрены следующие вопросы:\n",
    "\n",
    "#     - Символы, кодовые позиции и байтовые представления;\n",
    "\n",
    "#     - Уникальные особенности двоичных последовательностей:\n",
    "\n",
    "#           - bytes;\n",
    "\n",
    "#           - bytearray;\n",
    "\n",
    "#           - memoryview;\n",
    "\n",
    "#     - Кодеки для Unicode и унаследованных наборов символов;\n",
    "\n",
    "#     - Как предотвращать и обрабатывать ошибки кодирования;\n",
    "\n",
    "#     - Рекомендации по работе с текстовыми файлами;\n",
    "\n",
    "#     - Кодировка по умолчанию и стандартные проблемы ввода-вывода;\n",
    "\n",
    "#     - Безопасное сравнение Unicode-текстов с нормализацей;\n",
    "\n",
    "#     - Служебные функции для нормализации, сворачивания регистра\n",
    "#           и явного удаления диакритических знаков;\n",
    "\n",
    "#     - Правильная сортировка Unicode-текстов \n",
    "#           с помощью модуля locale и библиотеки PyUCA;\n",
    "\n",
    "#     - Символьные метаданные в базе данных Unicode;\n",
    "\n",
    "#     - Двухрежимные API для работы с типами str и bytes."
   ]
  },
  {
   "cell_type": "markdown",
   "metadata": {
    "collapsed": true
   },
   "source": [
    "### О символах и не только"
   ]
  },
  {
   "cell_type": "markdown",
   "metadata": {
    "collapsed": true
   },
   "source": [
    "##### Строка - последовательность символов"
   ]
  },
  {
   "cell_type": "code",
   "execution_count": 1,
   "metadata": {
    "collapsed": true
   },
   "outputs": [],
   "source": [
    "# А что такое символ?\n",
    "\n",
    "# Например, символ Unicode;\n",
    "# Поэтому отдельные элементы объекта str - символы Unicode;\n",
    "\n",
    "# Стандарт Unicode явно разделяет идентификатор символа\n",
    "#     и конкретное байтовое представление;\n",
    "\n",
    "# Идентификатор символа - кодовая позиция - число,\n",
    "#     записанное шестнадцатеричными цифрами (от 4 до 6) с префиксом \"U+\";\n",
    "\n",
    "# Кодовая позиция буквы A - U+0041, знака евро - U+20AC."
   ]
  },
  {
   "cell_type": "code",
   "execution_count": 2,
   "metadata": {
    "collapsed": true
   },
   "outputs": [],
   "source": [
    "# Кодировка влияет на то, какими конкретно байтами представляется символ;\n",
    "\n",
    "# Кодировка - алгоритм преобразования \n",
    "#     кодовых позиций в последовательности байтов\n",
    "#         и наоборот;\n",
    "\n",
    "# Кодовая позиция буквы А (U+0041) \n",
    "#     кодируется одним байтом \\x41 в кодировке UTF-8\n",
    "#         и двумя байтами \\x41\\x00 в кодировке UTF-16LE;\n",
    "\n",
    "# Преобразование из кодовых позиций в байты\n",
    "#     называется кодированием,\n",
    "#         преобразование из байтов\n",
    "#             в кодовые позиции - декодированием:"
   ]
  },
  {
   "cell_type": "code",
   "execution_count": 8,
   "metadata": {
    "collapsed": false
   },
   "outputs": [
    {
     "data": {
      "text/plain": [
       "4"
      ]
     },
     "execution_count": 8,
     "metadata": {},
     "output_type": "execute_result"
    }
   ],
   "source": [
    "s = 'café'\n",
    "len(s) # строка из четырех символов Unicode"
   ]
  },
  {
   "cell_type": "code",
   "execution_count": 9,
   "metadata": {
    "collapsed": false
   },
   "outputs": [
    {
     "data": {
      "text/plain": [
       "b'caf\\xc3\\xa9'"
      ]
     },
     "execution_count": 9,
     "metadata": {},
     "output_type": "execute_result"
    }
   ],
   "source": [
    "b = s.encode('utf8') # преобразуем str в bytes, пользуясь кодировкой utf-8\n",
    "b   # литералы bytes начинаются префиксом b"
   ]
  },
  {
   "cell_type": "code",
   "execution_count": 11,
   "metadata": {
    "collapsed": false
   },
   "outputs": [
    {
     "data": {
      "text/plain": [
       "5"
      ]
     },
     "execution_count": 11,
     "metadata": {},
     "output_type": "execute_result"
    }
   ],
   "source": [
    "len(b) # объект bytes состоит из пяти байтов"
   ]
  },
  {
   "cell_type": "code",
   "execution_count": 12,
   "metadata": {
    "collapsed": false
   },
   "outputs": [
    {
     "data": {
      "text/plain": [
       "'café'"
      ]
     },
     "execution_count": 12,
     "metadata": {},
     "output_type": "execute_result"
    }
   ],
   "source": [
    "b.decode('utf-8') # преобразуем bytes обратно в str"
   ]
  },
  {
   "cell_type": "markdown",
   "metadata": {
    "collapsed": true
   },
   "source": [
    "##### Кодирование - в bytes, декодирование - в str"
   ]
  },
  {
   "cell_type": "markdown",
   "metadata": {
    "collapsed": true
   },
   "source": [
    "### Все, что нужно знать о байтах"
   ]
  },
  {
   "cell_type": "code",
   "execution_count": 14,
   "metadata": {
    "collapsed": true
   },
   "outputs": [],
   "source": [
    "# Существует два основных типа двоичных последовательностей:\n",
    "#     неизменяемый bytes и изменяемый bytearray;\n",
    "\n",
    "# Каждый элемент bytes или bytearray - \n",
    "#     целое число от 0 до 255;\n",
    "\n",
    "# Срез двоичной последовательности \n",
    "#     всегда является двоичной последовательностью,\n",
    "#         даже если это срез длины 1:"
   ]
  },
  {
   "cell_type": "code",
   "execution_count": 16,
   "metadata": {
    "collapsed": false
   },
   "outputs": [
    {
     "data": {
      "text/plain": [
       "b'caf\\xc3\\xa9'"
      ]
     },
     "execution_count": 16,
     "metadata": {},
     "output_type": "execute_result"
    }
   ],
   "source": [
    "cafe = bytes('café', encoding='utf_8') # str -> bytes\n",
    "cafe"
   ]
  },
  {
   "cell_type": "code",
   "execution_count": 17,
   "metadata": {
    "collapsed": false
   },
   "outputs": [
    {
     "data": {
      "text/plain": [
       "99"
      ]
     },
     "execution_count": 17,
     "metadata": {},
     "output_type": "execute_result"
    }
   ],
   "source": [
    "cafe[0] # Каждый элемент - целое число в диапазоне range(256)"
   ]
  },
  {
   "cell_type": "code",
   "execution_count": 19,
   "metadata": {
    "collapsed": false
   },
   "outputs": [
    {
     "data": {
      "text/plain": [
       "b'c'"
      ]
     },
     "execution_count": 19,
     "metadata": {},
     "output_type": "execute_result"
    }
   ],
   "source": [
    "cafe[:1] # Срез bytes имеет тип bytes"
   ]
  },
  {
   "cell_type": "code",
   "execution_count": 20,
   "metadata": {
    "collapsed": false
   },
   "outputs": [
    {
     "data": {
      "text/plain": [
       "bytearray(b'caf\\xc3\\xa9')"
      ]
     },
     "execution_count": 20,
     "metadata": {},
     "output_type": "execute_result"
    }
   ],
   "source": [
    "cafe_arr = bytearray(cafe)\n",
    "cafe_arr"
   ]
  },
  {
   "cell_type": "code",
   "execution_count": 22,
   "metadata": {
    "collapsed": true
   },
   "outputs": [],
   "source": [
    "# Интересно, что my_bytes[0] возвращает int,\n",
    "#     а my_bites[:1] - объект bytes длины 1;\n",
    "\n",
    "# Единственный тип последовательности,\n",
    "#     для которого s[0] == s[:1], - это тип str;\n",
    "\n",
    "# Поведение типа str является исключением, \n",
    "#     для всех остальных последовательностей\n",
    "#         s[i] возвращает один элемент,\n",
    "#             а s[i:i+1] - последовательность, \n",
    "#                 состоящую из элемента s[i]."
   ]
  },
  {
   "cell_type": "markdown",
   "metadata": {
    "collapsed": true
   },
   "source": [
    "##### Для разных байтов применяются различные способы отображения:"
   ]
  },
  {
   "cell_type": "code",
   "execution_count": null,
   "metadata": {
    "collapsed": true
   },
   "outputs": [],
   "source": [
    "#     - Для байтов из диапазона ASCII выводится сам символ ASCII;\n",
    "\n",
    "#     - Для байтов - символов табуляции, новой строки,\n",
    "#           возврата каретки и \\ выводятся управляющие последовательности:\n",
    "#               \\t, \\n, \\r и \\\\;\n",
    "\n",
    "#     - Для всех остальных байтов выводится \n",
    "#           шестнадцатеричное представление (нулевой байт - \\x00)."
   ]
  },
  {
   "cell_type": "code",
   "execution_count": 2,
   "metadata": {
    "collapsed": true
   },
   "outputs": [],
   "source": [
    "# И bytes, и bytearray поддерживают все методы str,\n",
    "#     кроме тех, что относятся к форматированию (format, format_map)."
   ]
  },
  {
   "cell_type": "code",
   "execution_count": 3,
   "metadata": {
    "collapsed": true
   },
   "outputs": [],
   "source": [
    "# Объекты bytes и bytearray можно вызвать следующим образом:\n",
    "\n",
    "#     - Через конструктор с аргументами str и encoding;\n",
    "\n",
    "#     - Используя итерируемый объект со значениями от 0 до 255;\n",
    "\n",
    "#     - Используя протокол буфера (объекты bytes,bytearray, memoryview, array)."
   ]
  },
  {
   "cell_type": "code",
   "execution_count": 4,
   "metadata": {
    "collapsed": false
   },
   "outputs": [
    {
     "data": {
      "text/plain": [
       "b'\\xfe\\xff\\xff\\xff\\x00\\x00\\x01\\x00\\x02\\x00'"
      ]
     },
     "execution_count": 4,
     "metadata": {},
     "output_type": "execute_result"
    }
   ],
   "source": [
    "# Инициализация байтов данными массива:\n",
    "import array\n",
    "\n",
    "numbers = array.array('h', [-2, -1, 0, 1, 2]) # 'h' - массив коротких целых\n",
    "octets = bytes(numbers)\n",
    "octets"
   ]
  },
  {
   "cell_type": "markdown",
   "metadata": {
    "collapsed": true
   },
   "source": [
    "#### Структуры и представления областей памяти"
   ]
  },
  {
   "cell_type": "code",
   "execution_count": 6,
   "metadata": {
    "collapsed": true
   },
   "outputs": [],
   "source": [
    "# Модуль struct содержит функции \n",
    "#     как для разбора упакованных байтов,\n",
    "#         так и для преобразования кортежей в байты;\n",
    "\n",
    "# Функции из модуля struct применимы к объектам\n",
    "#     bytes, bytearray, memoryview."
   ]
  },
  {
   "cell_type": "code",
   "execution_count": null,
   "metadata": {
    "collapsed": true
   },
   "outputs": [],
   "source": [
    "# Использование memoryview и struct \n",
    "#     для извлечения ширины и высоты из заголовка GIF-изображения:\n",
    "\n",
    "import struct\n",
    "\n",
    "fmt = '<3s3sHH' # формат struct: \n",
    "#                 < - порядок байтов, s3s3;\n",
    "#                 3s3s - две последовательности по три байта;\n",
    "#                 HH - два 16-разрядных целых;\n",
    "with open('filter.gif', 'rb') as fp:\n",
    "    img = memoryview(fp.read()) # создается memoryview из файла в памяти...\n",
    "header = img[:10] # и еще один;\n",
    "# при этом ни один байт не копируется;\n",
    "bytes(header) # копируется 10 байтов;"
   ]
  },
  {
   "cell_type": "code",
   "execution_count": null,
   "metadata": {
    "collapsed": true
   },
   "outputs": [],
   "source": [
    "struct.unpack(fmt, header) # memoryview -> кортеж"
   ]
  },
  {
   "cell_type": "code",
   "execution_count": null,
   "metadata": {
    "collapsed": true
   },
   "outputs": [],
   "source": [
    "del header # освобождаем память,\n",
    "del img # занятую memoryview"
   ]
  },
  {
   "cell_type": "markdown",
   "metadata": {
    "collapsed": true
   },
   "source": [
    "##### Операция среза memoryview возвращает объект memoryview без копирования байтов"
   ]
  },
  {
   "cell_type": "markdown",
   "metadata": {
    "collapsed": true
   },
   "source": [
    "### Базовые кодировщики и декодировщики"
   ]
  },
  {
   "cell_type": "markdown",
   "metadata": {
    "collapsed": true
   },
   "source": [
    "##### Кодек - кодировщик-декодировщик, преобразовывающий текст в байты"
   ]
  },
  {
   "cell_type": "code",
   "execution_count": 4,
   "metadata": {
    "collapsed": false
   },
   "outputs": [
    {
     "name": "stdout",
     "output_type": "stream",
     "text": [
      "latin_1\tb'El Ni\\xf1o'\n",
      "utf_8\tb'El Ni\\xc3\\xb1o'\n",
      "utf_16\tb'\\xff\\xfeE\\x00l\\x00 \\x00N\\x00i\\x00\\xf1\\x00o\\x00'\n"
     ]
    }
   ],
   "source": [
    "# Строка, закодированная тремя кодеками, дает разные последовательности байтов:\n",
    "for codec in ['latin_1', 'utf_8', 'utf_16']:\n",
    "    print(codec, 'El Niño'.encode(codec), sep='\\t')"
   ]
  },
  {
   "cell_type": "markdown",
   "metadata": {
    "collapsed": true
   },
   "source": [
    "### Проблемы кодирования и декодирования"
   ]
  },
  {
   "cell_type": "code",
   "execution_count": 1,
   "metadata": {
    "collapsed": true
   },
   "outputs": [],
   "source": [
    "# Сущесвует исключение UnicodeError, но чаще всего ошибка специфична:\n",
    "#     либо UnicodeDecodeError (двоичная последовательность -> str),\n",
    "#         либо либо UnicodeEncodeError (str -> в двоичную последовательность)."
   ]
  },
  {
   "cell_type": "markdown",
   "metadata": {
    "collapsed": true
   },
   "source": [
    "##### Первое, на что нужно обращать внимание - точный тип исключения."
   ]
  },
  {
   "cell_type": "markdown",
   "metadata": {
    "collapsed": true
   },
   "source": [
    "#### Обработка UnicodeEncodeError"
   ]
  },
  {
   "cell_type": "raw",
   "metadata": {
    "collapsed": true
   },
   "source": [
    "Исключение возбуждается, если в ходе преобразования текста в байты оказывается, что символ отсутствует в конечной кодировке.\n",
    "\n",
    "При этом исключение может быть не возбуждено, если методу или функции кодировки был передан аргумент \"errors\", обесечивающий специальную обработку. "
   ]
  },
  {
   "cell_type": "code",
   "execution_count": 3,
   "metadata": {
    "collapsed": false
   },
   "outputs": [
    {
     "data": {
      "text/plain": [
       "b'S\\xc3\\xa3o Paulo'"
      ]
     },
     "execution_count": 3,
     "metadata": {},
     "output_type": "execute_result"
    }
   ],
   "source": [
    "# Кодирование текста в байты: обработка ошибок\n",
    "city = 'São Paulo'\n",
    "city.encode('utf_8') # кодировки utf справляются с любой строко"
   ]
  },
  {
   "cell_type": "code",
   "execution_count": 4,
   "metadata": {
    "collapsed": false
   },
   "outputs": [
    {
     "data": {
      "text/plain": [
       "b'\\xff\\xfeS\\x00\\xe3\\x00o\\x00 \\x00P\\x00a\\x00u\\x00l\\x00o\\x00'"
      ]
     },
     "execution_count": 4,
     "metadata": {},
     "output_type": "execute_result"
    }
   ],
   "source": [
    "city.encode('utf-16')"
   ]
  },
  {
   "cell_type": "code",
   "execution_count": 6,
   "metadata": {
    "collapsed": false
   },
   "outputs": [
    {
     "data": {
      "text/plain": [
       "b'S\\xe3o Paulo'"
      ]
     },
     "execution_count": 6,
     "metadata": {},
     "output_type": "execute_result"
    }
   ],
   "source": [
    "city.encode('iso8859_1') # iso также работает для строки"
   ]
  },
  {
   "cell_type": "code",
   "execution_count": 11,
   "metadata": {
    "collapsed": false
   },
   "outputs": [
    {
     "name": "stdout",
     "output_type": "stream",
     "text": [
      "We've got UnicodeEncodeError!\n"
     ]
    }
   ],
   "source": [
    "try: \n",
    "    city.encode('cp437') # cp437 спотыкается на ã\n",
    "except UnicodeEncodeError:\n",
    "    print('We\\'ve got UnicodeEncodeError!')"
   ]
  },
  {
   "cell_type": "code",
   "execution_count": 12,
   "metadata": {
    "collapsed": false
   },
   "outputs": [
    {
     "data": {
      "text/plain": [
       "b'So Paulo'"
      ]
     },
     "execution_count": 12,
     "metadata": {},
     "output_type": "execute_result"
    }
   ],
   "source": [
    "city.encode('cp437', errors='ignore') # пропускаем некодируемые символы"
   ]
  },
  {
   "cell_type": "code",
   "execution_count": 13,
   "metadata": {
    "collapsed": false
   },
   "outputs": [
    {
     "data": {
      "text/plain": [
       "b'S?o Paulo'"
      ]
     },
     "execution_count": 13,
     "metadata": {},
     "output_type": "execute_result"
    }
   ],
   "source": [
    "city.encode('cp437', errors='replace') # заменяем некодируемые символы на ?"
   ]
  },
  {
   "cell_type": "code",
   "execution_count": 14,
   "metadata": {
    "collapsed": false
   },
   "outputs": [
    {
     "data": {
      "text/plain": [
       "b'S&#227;o Paulo'"
      ]
     },
     "execution_count": 14,
     "metadata": {},
     "output_type": "execute_result"
    }
   ],
   "source": [
    "city.encode('cp437', errors='xmlcharrefreplace') # заменяем некод. сим-лы на xml"
   ]
  },
  {
   "cell_type": "raw",
   "metadata": {
    "collapsed": true
   },
   "source": [
    "Механизм обработки ошибок в модуле \"codecs\" расширяемый. Можно зарегестрировать дополнительные значения аргумента \"errors\", передав строку и функцию обработки ошибок функции \"codecs.register_error\". "
   ]
  },
  {
   "cell_type": "markdown",
   "metadata": {
    "collapsed": true
   },
   "source": [
    "#### Обработка UnicodeDecodeError"
   ]
  },
  {
   "cell_type": "raw",
   "metadata": {
    "collapsed": true
   },
   "source": [
    "Если при декодировании двоичной посоледовательности встретится неожиданный байт, то возникнет исключение \"UnicodeDecodeError\"."
   ]
  },
  {
   "cell_type": "raw",
   "metadata": {
    "collapsed": true
   },
   "source": [
    "В русской традиции \"мусорные\" символы называются \"крокозябрами\",\n",
    "    а в англоязычной - \"гремлинами\" или \"mojibake\"."
   ]
  },
  {
   "cell_type": "code",
   "execution_count": 16,
   "metadata": {
    "collapsed": false
   },
   "outputs": [
    {
     "data": {
      "text/plain": [
       "'Montréal'"
      ]
     },
     "execution_count": 16,
     "metadata": {},
     "output_type": "execute_result"
    }
   ],
   "source": [
    "# Пример декодирования строки в байты:\n",
    "octets = b'Montr\\xe9al'\n",
    "octets.decode('cp1252') # 'cp1252' - подмножество 'latin'"
   ]
  },
  {
   "cell_type": "markdown",
   "metadata": {
    "collapsed": false
   },
   "source": [
    "octets.decode('iso8859_7') # кодировка греческого языка \n",
    "# неправильно интерпретирует байт '\\xe9', но исключение не возбуждается"
   ]
  },
  {
   "cell_type": "code",
   "execution_count": 18,
   "metadata": {
    "collapsed": false
   },
   "outputs": [
    {
     "data": {
      "text/plain": [
       "'MontrИal'"
      ]
     },
     "execution_count": 18,
     "metadata": {},
     "output_type": "execute_result"
    }
   ],
   "source": [
    "octets.decode('koi8_r') # кодировка русского также неправильно интерпретирует"
   ]
  },
  {
   "cell_type": "code",
   "execution_count": 19,
   "metadata": {
    "collapsed": false
   },
   "outputs": [
    {
     "name": "stdout",
     "output_type": "stream",
     "text": [
      "We've got an UnicodeDecodeError!\n"
     ]
    }
   ],
   "source": [
    "try:\n",
    "    octets.decode('utf-8') # исключение возбуждается, тк 'utf-8' не знаком\n",
    "except UnicodeDecodeError: #     с октетамми '\\xe9'\n",
    "    print('We\\'ve got an UnicodeDecodeError!')"
   ]
  },
  {
   "cell_type": "code",
   "execution_count": 20,
   "metadata": {
    "collapsed": false
   },
   "outputs": [
    {
     "data": {
      "text/plain": [
       "'Montr�al'"
      ]
     },
     "execution_count": 20,
     "metadata": {},
     "output_type": "execute_result"
    }
   ],
   "source": [
    "octets.decode('utf-8', errors='replace') # знакомый нам обработчик ошибок"
   ]
  },
  {
   "cell_type": "markdown",
   "metadata": {
    "collapsed": true
   },
   "source": [
    "#### Как определить кодировку последовательности байтов?"
   ]
  },
  {
   "cell_type": "markdown",
   "metadata": {
    "collapsed": true
   },
   "source": [
    "##### Коротко: никак"
   ]
  },
  {
   "cell_type": "raw",
   "metadata": {
    "collapsed": true
   },
   "source": [
    "Если поток байтов содержит значения > 127, он представлен не в кодировке ASCII.\n",
    "\n",
    "Но есть советы. \n",
    "Если часто встречается байт b'\\x00', то это символ пробела в 'uft-16'.\n",
    "\n",
    "Так и работает Chardet - детектор кодировок. "
   ]
  },
  {
   "cell_type": "markdown",
   "metadata": {
    "collapsed": true
   },
   "source": [
    "#### ВОМ: полезный крокозябр"
   ]
  },
  {
   "cell_type": "code",
   "execution_count": 24,
   "metadata": {
    "collapsed": false
   },
   "outputs": [
    {
     "data": {
      "text/plain": [
       "b'\\xff\\xfeE\\x00l\\x00 \\x00N\\x00i\\x00n\\x00o\\x00'"
      ]
     },
     "execution_count": 24,
     "metadata": {},
     "output_type": "execute_result"
    }
   ],
   "source": [
    "u16 = 'El Nino'.encode('utf_16')\n",
    "u16"
   ]
  },
  {
   "cell_type": "code",
   "execution_count": 25,
   "metadata": {
    "collapsed": false
   },
   "outputs": [
    {
     "data": {
      "text/plain": [
       "b'\\xff\\xfeM\\x00o\\x00s\\x00c\\x00o\\x00w\\x00'"
      ]
     },
     "execution_count": 25,
     "metadata": {},
     "output_type": "execute_result"
    }
   ],
   "source": [
    "another_u16 = 'Moscow'.encode('utf_16')\n",
    "another_u16"
   ]
  },
  {
   "cell_type": "raw",
   "metadata": {
    "collapsed": true
   },
   "source": [
    "В начале последовательностей находятся два дополнительных байта: 'b'\\xff\\xfe'\n",
    "\n",
    "Это - BOM - byte-order mark (маркер порядка байтов). \n",
    "В данном случае он говорит, что порядок \"остроконечный\", \n",
    "    то есть принятый в процессоре Intel."
   ]
  },
  {
   "cell_type": "markdown",
   "metadata": {
    "collapsed": true
   },
   "source": [
    "### Обработка текстовых файлов"
   ]
  },
  {
   "cell_type": "raw",
   "metadata": {
    "collapsed": true
   },
   "source": [
    "На практике bytes следует декодировать в str на возможно более ранних стадиях\n",
    "    ввода (например, при открытии файла для чтения).\n",
    "\n",
    "Никогда не следует производить кодирование/декодирование в середине обработки.\n",
    "\n",
    "На этапе вывода объекты str кодируются в bytes как можно позже. \n",
    "\n",
    "Благодаря этому пользователям редко приходится иметь дело с типом bytes.\n",
    "\n",
    "Например, в Django представления выводят строки str, \n",
    "    а Django сам кодирует ответ в bytes (используя кодировку UTF-8)."
   ]
  },
  {
   "cell_type": "raw",
   "metadata": {
    "collapsed": true
   },
   "source": [
    "В Python 3 встроенная функция open производит необходимое декодирование \n",
    "    при чтении и кодирование при записи файлов, \n",
    "        т.е. от метода my_file.read() мы получаем объекты str \n",
    "            и их же передаем методу my_file.write(text)."
   ]
  },
  {
   "cell_type": "code",
   "execution_count": 27,
   "metadata": {
    "collapsed": false
   },
   "outputs": [
    {
     "data": {
      "text/plain": [
       "4"
      ]
     },
     "execution_count": 27,
     "metadata": {},
     "output_type": "execute_result"
    }
   ],
   "source": [
    "# Пример с ошибкой!\n",
    "open('cafe.txt', 'w', encoding='utf_8').write('café')"
   ]
  },
  {
   "cell_type": "code",
   "execution_count": 28,
   "metadata": {
    "collapsed": false
   },
   "outputs": [
    {
     "data": {
      "text/plain": [
       "'cafГ©'"
      ]
     },
     "execution_count": 28,
     "metadata": {},
     "output_type": "execute_result"
    }
   ],
   "source": [
    "open('cafe.txt').read()"
   ]
  },
  {
   "cell_type": "raw",
   "metadata": {
    "collapsed": true
   },
   "source": [
    "Откуда ужасные крокозябры на конце? \n",
    "Дело в том, что мы не указали кодировку при чтении, \n",
    "    и Windows 7 использовал 'Windows 1252' - кодировку по умолчанию."
   ]
  },
  {
   "cell_type": "raw",
   "metadata": {
    "collapsed": true
   },
   "source": [
    "Код не должен зависеть от кодировки по умолчанию. \n",
    "\n",
    "Следует всегда задавать аргумент 'encoding=' при открытии текстовых файлов."
   ]
  },
  {
   "cell_type": "raw",
   "metadata": {
    "collapsed": true
   },
   "source": [
    "Текстовые файлы лучше не открывать в двоичном режиме.\n",
    "\n",
    "Двоичный режим нужен для растровых изображений, не текста."
   ]
  },
  {
   "cell_type": "markdown",
   "metadata": {
    "collapsed": true
   },
   "source": [
    "### Нормализация Unicode для правильного сравнения"
   ]
  },
  {
   "cell_type": "raw",
   "metadata": {
    "collapsed": true
   },
   "source": [
    "Сравнение строк осложняется тем, что в Unicode есть модифицирующие символы:"
   ]
  },
  {
   "cell_type": "code",
   "execution_count": 32,
   "metadata": {
    "collapsed": false
   },
   "outputs": [
    {
     "data": {
      "text/plain": [
       "('café', 'café')"
      ]
     },
     "execution_count": 32,
     "metadata": {},
     "output_type": "execute_result"
    }
   ],
   "source": [
    "s1 = 'café'\n",
    "s2 = 'cafe\\u0301'\n",
    "\n",
    "s1, s2"
   ]
  },
  {
   "cell_type": "code",
   "execution_count": 33,
   "metadata": {
    "collapsed": false
   },
   "outputs": [
    {
     "data": {
      "text/plain": [
       "(4, 5)"
      ]
     },
     "execution_count": 33,
     "metadata": {},
     "output_type": "execute_result"
    }
   ],
   "source": [
    "len(s1), len(s2)"
   ]
  },
  {
   "cell_type": "code",
   "execution_count": 34,
   "metadata": {
    "collapsed": false
   },
   "outputs": [
    {
     "data": {
      "text/plain": [
       "False"
      ]
     },
     "execution_count": 34,
     "metadata": {},
     "output_type": "execute_result"
    }
   ],
   "source": [
    "s1 == s2"
   ]
  },
  {
   "cell_type": "raw",
   "metadata": {
    "collapsed": true
   },
   "source": [
    "Кодовая позиция U+0301 называется МОДИФИЦИРУЮЩИЙ АКУТ.\n",
    "\n",
    "Python, как мы видим, считает ее отличной от эквивалентной строки.\n",
    "\n",
    "Решение состоит в том, чтобы использовать нормализацию Unicode:"
   ]
  },
  {
   "cell_type": "code",
   "execution_count": 37,
   "metadata": {
    "collapsed": false
   },
   "outputs": [
    {
     "data": {
      "text/plain": [
       "(4, 5)"
      ]
     },
     "execution_count": 37,
     "metadata": {},
     "output_type": "execute_result"
    }
   ],
   "source": [
    "from unicodedata import normalize\n",
    "\n",
    "s1 = 'café'\n",
    "s2 = 'cafe\\u0301'\n",
    "\n",
    "len(s1), len(s2)"
   ]
  },
  {
   "cell_type": "code",
   "execution_count": 38,
   "metadata": {
    "collapsed": false
   },
   "outputs": [
    {
     "data": {
      "text/plain": [
       "(4, 4)"
      ]
     },
     "execution_count": 38,
     "metadata": {},
     "output_type": "execute_result"
    }
   ],
   "source": [
    "len(normalize('NFC', s1)), len(normalize('NFC', s2))"
   ]
  },
  {
   "cell_type": "code",
   "execution_count": 39,
   "metadata": {
    "collapsed": false
   },
   "outputs": [
    {
     "data": {
      "text/plain": [
       "(5, 5)"
      ]
     },
     "execution_count": 39,
     "metadata": {},
     "output_type": "execute_result"
    }
   ],
   "source": [
    "len(normalize('NFD', s1)), len(normalize('NFD', s2))"
   ]
  },
  {
   "cell_type": "code",
   "execution_count": 40,
   "metadata": {
    "collapsed": false
   },
   "outputs": [
    {
     "data": {
      "text/plain": [
       "True"
      ]
     },
     "execution_count": 40,
     "metadata": {},
     "output_type": "execute_result"
    }
   ],
   "source": [
    "normalize('NFC', s1) == normalize('NFC', s2)"
   ]
  },
  {
   "cell_type": "raw",
   "metadata": {
    "collapsed": true
   },
   "source": [
    "Перед сохранением пользовательских строк лучше прогнать их \n",
    "    через normalize('NFC', user_text)'."
   ]
  },
  {
   "cell_type": "code",
   "execution_count": 41,
   "metadata": {
    "collapsed": true
   },
   "outputs": [],
   "source": [
    "#### Сворачивание регистра"
   ]
  },
  {
   "cell_type": "raw",
   "metadata": {
    "collapsed": true
   },
   "source": [
    "Сворачивание текста - это перевод текста в нижний регистр \n",
    "    с дополнительными преобразованиями.\n",
    "\n",
    "Для этой цели предназначен метод 'str.casefold()'"
   ]
  },
  {
   "cell_type": "raw",
   "metadata": {
    "collapsed": true
   },
   "source": [
    "s.casefold() дает такой же результат, как s.lower():"
   ]
  },
  {
   "cell_type": "code",
   "execution_count": 43,
   "metadata": {
    "collapsed": false
   },
   "outputs": [
    {
     "data": {
      "text/plain": [
       "'mom i have a letter: μ'"
      ]
     },
     "execution_count": 43,
     "metadata": {},
     "output_type": "execute_result"
    }
   ],
   "source": [
    "sen = 'Mom I have a letter: μ'\n",
    "sen.casefold()"
   ]
  },
  {
   "cell_type": "code",
   "execution_count": 44,
   "metadata": {
    "collapsed": true
   },
   "outputs": [],
   "source": [
    "#### Примеры в действии"
   ]
  },
  {
   "cell_type": "code",
   "execution_count": 45,
   "metadata": {
    "collapsed": true
   },
   "outputs": [],
   "source": [
    "# Функция удаления модифицирующих символов:\n",
    "import unicodedata\n",
    "import string\n",
    "\n",
    "def shave_marks(txt):\n",
    "    \"\"\" удаление диакритических знаков \"\"\"\n",
    "    norm_txt = unicodedata.normalize('NFD', txt)\n",
    "    shaved = ''.join(c for f in norm_txt\n",
    "                    if not unicodedata.combining(c))\n",
    "    return unicodedata.normalize('NFC', shaved)"
   ]
  },
  {
   "cell_type": "code",
   "execution_count": null,
   "metadata": {
    "collapsed": true
   },
   "outputs": [],
   "source": [
    "### Сортировка Unicode-текстов"
   ]
  },
  {
   "cell_type": "code",
   "execution_count": null,
   "metadata": {
    "collapsed": true
   },
   "outputs": [],
   "source": []
  },
  {
   "cell_type": "code",
   "execution_count": null,
   "metadata": {
    "collapsed": true
   },
   "outputs": [],
   "source": []
  },
  {
   "cell_type": "code",
   "execution_count": null,
   "metadata": {
    "collapsed": true
   },
   "outputs": [],
   "source": []
  },
  {
   "cell_type": "code",
   "execution_count": null,
   "metadata": {
    "collapsed": true
   },
   "outputs": [],
   "source": []
  },
  {
   "cell_type": "code",
   "execution_count": null,
   "metadata": {
    "collapsed": true
   },
   "outputs": [],
   "source": []
  },
  {
   "cell_type": "code",
   "execution_count": null,
   "metadata": {
    "collapsed": true
   },
   "outputs": [],
   "source": []
  },
  {
   "cell_type": "code",
   "execution_count": null,
   "metadata": {
    "collapsed": true
   },
   "outputs": [],
   "source": []
  },
  {
   "cell_type": "code",
   "execution_count": null,
   "metadata": {
    "collapsed": true
   },
   "outputs": [],
   "source": []
  },
  {
   "cell_type": "code",
   "execution_count": null,
   "metadata": {
    "collapsed": true
   },
   "outputs": [],
   "source": []
  },
  {
   "cell_type": "code",
   "execution_count": null,
   "metadata": {
    "collapsed": true
   },
   "outputs": [],
   "source": []
  },
  {
   "cell_type": "code",
   "execution_count": null,
   "metadata": {
    "collapsed": true
   },
   "outputs": [],
   "source": []
  },
  {
   "cell_type": "code",
   "execution_count": null,
   "metadata": {
    "collapsed": true
   },
   "outputs": [],
   "source": []
  },
  {
   "cell_type": "code",
   "execution_count": null,
   "metadata": {
    "collapsed": true
   },
   "outputs": [],
   "source": []
  },
  {
   "cell_type": "code",
   "execution_count": null,
   "metadata": {
    "collapsed": true
   },
   "outputs": [],
   "source": []
  },
  {
   "cell_type": "code",
   "execution_count": null,
   "metadata": {
    "collapsed": true
   },
   "outputs": [],
   "source": []
  },
  {
   "cell_type": "code",
   "execution_count": null,
   "metadata": {
    "collapsed": true
   },
   "outputs": [],
   "source": []
  },
  {
   "cell_type": "code",
   "execution_count": null,
   "metadata": {
    "collapsed": true
   },
   "outputs": [],
   "source": []
  },
  {
   "cell_type": "code",
   "execution_count": null,
   "metadata": {
    "collapsed": true
   },
   "outputs": [],
   "source": []
  },
  {
   "cell_type": "code",
   "execution_count": null,
   "metadata": {
    "collapsed": true
   },
   "outputs": [],
   "source": []
  },
  {
   "cell_type": "code",
   "execution_count": null,
   "metadata": {
    "collapsed": true
   },
   "outputs": [],
   "source": []
  },
  {
   "cell_type": "code",
   "execution_count": null,
   "metadata": {
    "collapsed": true
   },
   "outputs": [],
   "source": []
  },
  {
   "cell_type": "code",
   "execution_count": null,
   "metadata": {
    "collapsed": true
   },
   "outputs": [],
   "source": []
  },
  {
   "cell_type": "code",
   "execution_count": null,
   "metadata": {
    "collapsed": true
   },
   "outputs": [],
   "source": []
  },
  {
   "cell_type": "code",
   "execution_count": null,
   "metadata": {
    "collapsed": true
   },
   "outputs": [],
   "source": []
  },
  {
   "cell_type": "code",
   "execution_count": null,
   "metadata": {
    "collapsed": true
   },
   "outputs": [],
   "source": []
  },
  {
   "cell_type": "code",
   "execution_count": null,
   "metadata": {
    "collapsed": true
   },
   "outputs": [],
   "source": []
  },
  {
   "cell_type": "code",
   "execution_count": null,
   "metadata": {
    "collapsed": true
   },
   "outputs": [],
   "source": []
  }
 ],
 "metadata": {
  "anaconda-cloud": {},
  "kernelspec": {
   "display_name": "Python [default]",
   "language": "python",
   "name": "python3"
  },
  "language_info": {
   "codemirror_mode": {
    "name": "ipython",
    "version": 3
   },
   "file_extension": ".py",
   "mimetype": "text/x-python",
   "name": "python",
   "nbconvert_exporter": "python",
   "pygments_lexer": "ipython3",
   "version": "3.5.2"
  }
 },
 "nbformat": 4,
 "nbformat_minor": 1
}
