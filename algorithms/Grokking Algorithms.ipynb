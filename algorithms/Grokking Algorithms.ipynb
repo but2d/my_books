{
 "cells": [
  {
   "cell_type": "markdown",
   "metadata": {
    "collapsed": true
   },
   "source": [
    "# Грокаем алгоритмы"
   ]
  },
  {
   "cell_type": "code",
   "execution_count": 122,
   "metadata": {
    "collapsed": false
   },
   "outputs": [
    {
     "data": {
      "text/plain": [
       "True"
      ]
     },
     "execution_count": 122,
     "metadata": {},
     "output_type": "execute_result"
    }
   ],
   "source": [
    "import webbrowser\n",
    "book_url = 'https://drive.google.com/file/d/1w0mEfidcZz0ISJedgOI6mHTE8zm05jb7/view?usp=sharing'\n",
    "webbrowser.open(book_url)"
   ]
  },
  {
   "cell_type": "markdown",
   "metadata": {
    "collapsed": true
   },
   "source": [
    "## Глава 2: Сортировка выбором [ O (n*n) ]"
   ]
  },
  {
   "cell_type": "markdown",
   "metadata": {
    "collapsed": true
   },
   "source": [
    "### Поиск наименьшего элемента массива"
   ]
  },
  {
   "cell_type": "code",
   "execution_count": 4,
   "metadata": {
    "collapsed": true
   },
   "outputs": [],
   "source": [
    "def find_smallest(arr):\n",
    "    smallest = arr[0]\n",
    "    smallest_index = 0\n",
    "    for i in range(1, len(arr)):\n",
    "        if arr[i] < smallest:\n",
    "            smallest = arr[i]\n",
    "            smallest_index = i\n",
    "    return smallest_index"
   ]
  },
  {
   "cell_type": "code",
   "execution_count": 5,
   "metadata": {
    "collapsed": true
   },
   "outputs": [],
   "source": [
    "def selection_sort(arr):\n",
    "    new_arr =  []\n",
    "    for i in range(len(arr)):\n",
    "        smallest_index = find_smallest(arr)\n",
    "        new_arr.append(arr.pop(smallest_index))\n",
    "    return new_arr"
   ]
  },
  {
   "cell_type": "code",
   "execution_count": 6,
   "metadata": {
    "collapsed": false
   },
   "outputs": [
    {
     "name": "stdout",
     "output_type": "stream",
     "text": [
      "[-1, 2, 4, 7, 17]\n"
     ]
    }
   ],
   "source": [
    "print(selection_sort([7, 2, -1, 17, 4,]))"
   ]
  },
  {
   "cell_type": "markdown",
   "metadata": {
    "collapsed": true
   },
   "source": [
    "## Глава 3: Рекурсия"
   ]
  },
  {
   "cell_type": "markdown",
   "metadata": {
    "collapsed": true
   },
   "source": [
    "### Базовый и рекурсивный случаи"
   ]
  },
  {
   "cell_type": "code",
   "execution_count": 9,
   "metadata": {
    "collapsed": false
   },
   "outputs": [],
   "source": [
    "def countdown(i):\n",
    "    print(i, end=' ')\n",
    "    if i <= 0: # базовый случай\n",
    "        return None\n",
    "    else: # рекурсивный случай\n",
    "        countdown(i-1)"
   ]
  },
  {
   "cell_type": "code",
   "execution_count": 10,
   "metadata": {
    "collapsed": false
   },
   "outputs": [
    {
     "name": "stdout",
     "output_type": "stream",
     "text": [
      "25 24 23 22 21 20 19 18 17 16 15 14 13 12 11 10 9 8 7 6 5 4 3 2 1 0 "
     ]
    }
   ],
   "source": [
    "countdown(25)"
   ]
  },
  {
   "cell_type": "markdown",
   "metadata": {
    "collapsed": true
   },
   "source": [
    "### Стек вызовов"
   ]
  },
  {
   "cell_type": "code",
   "execution_count": 12,
   "metadata": {
    "collapsed": true
   },
   "outputs": [],
   "source": [
    "def greet(name): \n",
    "    print(\"Hello, \" + name + \"!\") # Вторая позиция занимается и освобождается (по выполнении) функцией print()\n",
    "    greet2(name) # Вторая позиция занимается функцией greet2() с переменной name \n",
    "    # Вторая позиция освобождена\n",
    "    print(\"Getting ready to say bye...\") # Освободившуюся вторую позицию занимает и освобождает функция  print()\n",
    "    bye() # Вторая позиция занимается функцией bye() без переменных"
   ]
  },
  {
   "cell_type": "code",
   "execution_count": 13,
   "metadata": {
    "collapsed": true
   },
   "outputs": [],
   "source": [
    "def greet2(name):\n",
    "    print(\"How are you, \" + name + \"?\") # Третья позиция занимается и освождается функцией print()\n",
    "\n",
    "def bye():\n",
    "    print(\"Ok bye!\") # Третья позиция снова занимается и освождается функцией print()"
   ]
  },
  {
   "cell_type": "code",
   "execution_count": 14,
   "metadata": {
    "collapsed": false
   },
   "outputs": [
    {
     "name": "stdout",
     "output_type": "stream",
     "text": [
      "Hello, yura!\n",
      "How are you, yura?\n",
      "Getting ready to say bye...\n",
      "Ok bye!\n"
     ]
    }
   ],
   "source": [
    "greet(\"yura\") # Первая позиция: функция greet() с переменной name=\"yura\" (выделяем память) \n",
    "# Стек  освобождается"
   ]
  },
  {
   "cell_type": "markdown",
   "metadata": {
    "collapsed": true
   },
   "source": [
    "### Рекурсивные функции и стек вызовов"
   ]
  },
  {
   "cell_type": "code",
   "execution_count": 16,
   "metadata": {
    "collapsed": true
   },
   "outputs": [],
   "source": [
    "def fact(x):\n",
    "    if x == 1:\n",
    "        return 1\n",
    "    else: # Каждый вызов создает собственную копию x\n",
    "        return x * fact(x-1) # return 3 * fact(2)\n",
    "                             # fact(2) = 2 * fact(1)\n",
    "                             # fact(1) = 1"
   ]
  },
  {
   "cell_type": "code",
   "execution_count": 17,
   "metadata": {
    "collapsed": false
   },
   "outputs": [
    {
     "data": {
      "text/plain": [
       "6"
      ]
     },
     "execution_count": 17,
     "metadata": {},
     "output_type": "execute_result"
    }
   ],
   "source": [
    "fact(3)"
   ]
  },
  {
   "cell_type": "markdown",
   "metadata": {
    "collapsed": true
   },
   "source": [
    "## Глава 4: Быстрая сортировка "
   ]
  },
  {
   "cell_type": "markdown",
   "metadata": {
    "collapsed": true
   },
   "source": [
    "### Рекурсивная сумма элементов списка"
   ]
  },
  {
   "cell_type": "code",
   "execution_count": 20,
   "metadata": {
    "collapsed": true
   },
   "outputs": [],
   "source": [
    "def rec_sum(arr):\n",
    "    if len(arr) == 1:\n",
    "        return arr[0]\n",
    "    else:\n",
    "        return arr.pop() + rec_sum(arr)"
   ]
  },
  {
   "cell_type": "code",
   "execution_count": 21,
   "metadata": {
    "collapsed": false
   },
   "outputs": [],
   "source": [
    "assert rec_sum([1,2,3,4,5,6,7,8]) == sum([1,2,3,4,5,6,7,8]) # Equal"
   ]
  },
  {
   "cell_type": "markdown",
   "metadata": {
    "collapsed": true
   },
   "source": [
    "### Рекурсивный подсчет элементов списка"
   ]
  },
  {
   "cell_type": "code",
   "execution_count": 23,
   "metadata": {
    "collapsed": true
   },
   "outputs": [],
   "source": [
    "def rec_len(arr):\n",
    "    if len(arr) == 1:\n",
    "        return 1\n",
    "    else:\n",
    "        del arr[-1]\n",
    "        return 1 + rec_len(arr)"
   ]
  },
  {
   "cell_type": "code",
   "execution_count": 24,
   "metadata": {
    "collapsed": true
   },
   "outputs": [],
   "source": [
    "assert rec_len([1,2,3,4,5,6,7,8]) == len([1,2,3,4,5,6,7,8]) # Equal"
   ]
  },
  {
   "cell_type": "code",
   "execution_count": 25,
   "metadata": {
    "collapsed": true
   },
   "outputs": [],
   "source": [
    "def rec_max(arr):\n",
    "    if len(arr) == 1:\n",
    "        return arr[0]\n",
    "    else:\n",
    "        return max(arr.pop(), rec_max(arr))"
   ]
  },
  {
   "cell_type": "code",
   "execution_count": 26,
   "metadata": {
    "collapsed": false
   },
   "outputs": [],
   "source": [
    "assert rec_max([1,2,3,4,5,6,7,8]) == max([1,2,3,4,5,6,7,8]) # Equal"
   ]
  },
  {
   "cell_type": "markdown",
   "metadata": {
    "collapsed": true
   },
   "source": [
    "### Рекурсивная быстрая сортировка"
   ]
  },
  {
   "cell_type": "code",
   "execution_count": 44,
   "metadata": {
    "collapsed": true
   },
   "outputs": [],
   "source": [
    "def quick_sort(arr):\n",
    "    if len(arr) < 2:\n",
    "        return arr # базовый случай\n",
    "    else:\n",
    "        pivot_elem = arr[0]  # O(n*log(n))\n",
    "        less = [i for i in arr[1:] if i <= pivot_elem]\n",
    "        greater = [j for j in arr[1:] if j > pivot_elem] # we've got inf loop\n",
    "                                                         #   without [1:] in arr\n",
    "        return quick_sort(less) + [pivot_elem] + quick_sort(greater)"
   ]
  },
  {
   "cell_type": "code",
   "execution_count": 46,
   "metadata": {
    "collapsed": false
   },
   "outputs": [],
   "source": [
    "assert quick_sort([10, 5, 11, 2]) == [2, 5, 10, 11]"
   ]
  },
  {
   "cell_type": "markdown",
   "metadata": {
    "collapsed": true
   },
   "source": [
    "## Глава 5: Хэш-таблицы"
   ]
  },
  {
   "cell_type": "code",
   "execution_count": 48,
   "metadata": {
    "collapsed": false
   },
   "outputs": [],
   "source": [
    "voted = {}\n",
    "def check_voter(name):\n",
    "    if voted.get(name):\n",
    "        print(\"Kick them out!\")\n",
    "    else: # dict is faster then list! O(1) vs O(n)\n",
    "        voted[name] = True\n",
    "        print(\"Let them vote!\")"
   ]
  },
  {
   "cell_type": "markdown",
   "metadata": {},
   "source": [
    "#### Коэффициент заполнения хэш-таблицы: "
   ]
  },
  {
   "cell_type": "code",
   "execution_count": 63,
   "metadata": {
    "collapsed": true
   },
   "outputs": [],
   "source": [
    "# (количество элементов в таблице)/(общее количество элементов)"
   ]
  },
  {
   "cell_type": "markdown",
   "metadata": {
    "collapsed": true
   },
   "source": [
    "#### Хорошая хэш-функция обеспечивает равномерное распределение значений в таблице"
   ]
  },
  {
   "cell_type": "markdown",
   "metadata": {
    "collapsed": true
   },
   "source": [
    "## Глава 6: Поиск в ширину"
   ]
  },
  {
   "cell_type": "markdown",
   "metadata": {},
   "source": [
    "#### Поиск минимального количества сегментов - для *невзвешенных* графов"
   ]
  },
  {
   "cell_type": "code",
   "execution_count": null,
   "metadata": {
    "collapsed": true
   },
   "outputs": [],
   "source": [
    "# Граф - модель набора связей"
   ]
  },
  {
   "cell_type": "code",
   "execution_count": 60,
   "metadata": {
    "collapsed": true
   },
   "outputs": [],
   "source": [
    "graph = {} # реализация графа с помощью хэш-таблиц\n",
    "graph['you'] = ['alice', 'bob', 'claire']"
   ]
  },
  {
   "cell_type": "code",
   "execution_count": 61,
   "metadata": {
    "collapsed": true
   },
   "outputs": [],
   "source": [
    "graph['bob'] = ['anuj', 'peggy']\n",
    "graph['alice'] = ['peggy']\n",
    "graph['claire'] = ['thom', 'johny']\n",
    "graph['anuj'] = []  # направленный граф - отношения действуют только в одну сторону \n",
    "graph['peggy'] = []\n",
    "graph['thom'] = []\n",
    "graph['johny'] = []"
   ]
  },
  {
   "cell_type": "code",
   "execution_count": 62,
   "metadata": {
    "collapsed": false
   },
   "outputs": [
    {
     "data": {
      "text/plain": [
       "{'alice': ['peggy'],\n",
       " 'anuj': [],\n",
       " 'bob': ['anuj', 'peggy'],\n",
       " 'claire': ['thom', 'johny'],\n",
       " 'johny': [],\n",
       " 'peggy': [],\n",
       " 'thom': [],\n",
       " 'you': ['alice', 'bob', 'claire']}"
      ]
     },
     "execution_count": 62,
     "metadata": {},
     "output_type": "execute_result"
    }
   ],
   "source": [
    "graph"
   ]
  },
  {
   "cell_type": "code",
   "execution_count": 57,
   "metadata": {
    "collapsed": true
   },
   "outputs": [],
   "source": [
    "from collections import deque  # импорт очереди - структуры по типу First In - First Out (FIFO) "
   ]
  },
  {
   "cell_type": "code",
   "execution_count": 74,
   "metadata": {
    "collapsed": true
   },
   "outputs": [],
   "source": [
    "def search(name):\n",
    "    search_queue = deque()  # создание очереди\n",
    "    search_queue += graph[name]\n",
    "    searched = []  # список проверенных людей\n",
    "    while search_queue:  # пока очередь не пуста\n",
    "        person = search_queue.popleft()  # извлекается первый человек \n",
    "        if not person in searched:\n",
    "            if person_is_seller(person):  # проверка на продавца манго\n",
    "                print(person, 'is mango seller!')\n",
    "                return True\n",
    "            else:\n",
    "                search_queue += graph[person]\n",
    "                searched.append(person)\n",
    "    return False"
   ]
  },
  {
   "cell_type": "code",
   "execution_count": 77,
   "metadata": {
    "collapsed": true
   },
   "outputs": [],
   "source": [
    "def person_is_seller(name):\n",
    "    return name == 'claire'"
   ]
  },
  {
   "cell_type": "code",
   "execution_count": 78,
   "metadata": {
    "collapsed": false
   },
   "outputs": [
    {
     "name": "stdout",
     "output_type": "stream",
     "text": [
      "claire is mango seller!\n"
     ]
    },
    {
     "data": {
      "text/plain": [
       "True"
      ]
     },
     "execution_count": 78,
     "metadata": {},
     "output_type": "execute_result"
    }
   ],
   "source": [
    "search('you')  # время выполнения: О(V + E), V - кол-во вершин, E - кол-во ребер"
   ]
  },
  {
   "cell_type": "markdown",
   "metadata": {
    "collapsed": true
   },
   "source": [
    "## Глава 7: Алгоритм Дейкстры "
   ]
  },
  {
   "cell_type": "markdown",
   "metadata": {},
   "source": [
    "#### Поиск самого быстрого пути - для *взвешенных* графов"
   ]
  },
  {
   "cell_type": "code",
   "execution_count": 80,
   "metadata": {
    "collapsed": true
   },
   "outputs": [],
   "source": [
    "# Необходимо найти узел с наименьшей стоимостью;\n",
    "# Обновить стоимости соседей этого узла;\n",
    "# Повторять, пока не будет сделано для всех узлов;\n",
    "# Вычислить итоговый путь."
   ]
  },
  {
   "cell_type": "markdown",
   "metadata": {
    "collapsed": true
   },
   "source": [
    "#### Алгоритм Дейкстры не работает с отрицательным весом!"
   ]
  },
  {
   "cell_type": "code",
   "execution_count": 92,
   "metadata": {
    "collapsed": false
   },
   "outputs": [],
   "source": [
    "graph = {}\n",
    "\n",
    "graph['start'] = {}\n",
    "graph['start']['a'] = 6\n",
    "graph['start']['b'] = 2\n",
    "\n",
    "graph['a'] = {}\n",
    "graph['a']['fin'] = 1\n",
    "graph['b'] = {}\n",
    "graph['b']['a'] = 3\n",
    "graph['b']['fin'] = 5\n",
    "graph['fin'] = {}"
   ]
  },
  {
   "cell_type": "code",
   "execution_count": 93,
   "metadata": {
    "collapsed": true
   },
   "outputs": [],
   "source": [
    "infinity = float('inf')\n",
    "costs = {}\n",
    "costs['a'] = 6\n",
    "costs['b'] = 2\n",
    "costs['fin'] = infinity"
   ]
  },
  {
   "cell_type": "code",
   "execution_count": 94,
   "metadata": {
    "collapsed": true
   },
   "outputs": [],
   "source": [
    "parents = {}\n",
    "parents['a'] = 'start'\n",
    "parents['b'] = 'start'\n",
    "parents['fin'] = None"
   ]
  },
  {
   "cell_type": "code",
   "execution_count": 95,
   "metadata": {
    "collapsed": true
   },
   "outputs": [],
   "source": [
    "processed = []"
   ]
  },
  {
   "cell_type": "code",
   "execution_count": 96,
   "metadata": {
    "collapsed": true
   },
   "outputs": [],
   "source": [
    "def find_lowest_cost_node(costs):\n",
    "    lowest_cost = float('inf')\n",
    "    lowest_cost_node = None\n",
    "    for node in costs:\n",
    "        cost = costs[node] # (6, 2, inf)\n",
    "        if cost < lowest_cost and node not in processed:  \n",
    "            lowest_cost = cost  # update lowest cost\n",
    "            lowest_cost_node = node\n",
    "        return lowest_cost_node"
   ]
  },
  {
   "cell_type": "code",
   "execution_count": 97,
   "metadata": {
    "collapsed": false
   },
   "outputs": [],
   "source": [
    "node = find_lowest_cost_node(costs) # узел с наименьшей стоимостью\n",
    "while node is not None:\n",
    "    cost = costs[node]\n",
    "    neighbors = graph[node]\n",
    "    for n in neighbors.keys():  # перебор всех соседей узла\n",
    "        new_cost = cost + neighbors[n]\n",
    "        if costs[n] > new_cost:  #  если прохождение через этот узел быстрее, ...\n",
    "            costs[n] = new_cost  #      обновляем стоимость узла\n",
    "            parents[n] = node  #  узел становится новым родителем для соседа\n",
    "    processed.append(node)  #  узел помечается как обработанный\n",
    "    node = find_lowest_cost_node(costs)  #  переходим к следующему узлу"
   ]
  },
  {
   "cell_type": "markdown",
   "metadata": {},
   "source": [
    "## Глава 8: Жадные алгоритмы"
   ]
  },
  {
   "cell_type": "code",
   "execution_count": 100,
   "metadata": {
    "collapsed": true
   },
   "outputs": [],
   "source": [
    "# На каждом шаге жадный алгоритм выбирает оптимальный вариант;\n",
    "# Совокупность локально-оптимальных решений приводит... \n",
    "#     к достаточно хорошему глобально-оптимальному результату."
   ]
  },
  {
   "cell_type": "code",
   "execution_count": null,
   "metadata": {
    "collapsed": true
   },
   "outputs": [],
   "source": [
    "# Приближенный алгоритм используется, \n",
    "#     когда вычисление точного решения занимет слишком много времени;\n",
    "#\n",
    "# Эффективность приближенного алгоритма оценивается по:\n",
    "#     - быстроте;\n",
    "#     - близости решения к оптимальному."
   ]
  },
  {
   "cell_type": "code",
   "execution_count": 107,
   "metadata": {
    "collapsed": true
   },
   "outputs": [],
   "source": [
    "states_needed = set(['mt', 'wa', 'or', 'id',   #  список -> множество\n",
    "                     'nv', 'ut', 'ca', 'az'])"
   ]
  },
  {
   "cell_type": "code",
   "execution_count": 108,
   "metadata": {
    "collapsed": true
   },
   "outputs": [],
   "source": [
    "stations = {}  # ключи - названия станций; значения - штаты\n",
    "stations['kone'] = set(['id', 'nv', 'ut'])\n",
    "stations['ktwo'] = set(['wa', 'id', 'mt'])\n",
    "stations['kthree'] = set(['or', 'nv', 'ca'])\n",
    "stations['kfour'] = set(['nv', 'ut'])\n",
    "stations['kfive'] = set(['ca', 'az'])"
   ]
  },
  {
   "cell_type": "code",
   "execution_count": 109,
   "metadata": {
    "collapsed": true
   },
   "outputs": [],
   "source": [
    "final_stations = set()  # итоговый набор данных хранится здесь"
   ]
  },
  {
   "cell_type": "code",
   "execution_count": 113,
   "metadata": {
    "collapsed": false
   },
   "outputs": [
    {
     "name": "stdout",
     "output_type": "stream",
     "text": [
      "{'kfive', 'kthree', 'ktwo', 'kone'}\n"
     ]
    }
   ],
   "source": [
    "while states_needed:\n",
    "    best_station = None  # станция, которая обслуживает больше всего штатов\n",
    "    states_covered = set()  # штаты станции, не входящие в покрытие\n",
    "    for station, states_for_station in stations.items():\n",
    "        covered = states_needed & states_for_station  # пересечение множеств\n",
    "        if len(covered) > len(states_covered):\n",
    "            best_station = station\n",
    "            states_covered = covered\n",
    "    states_needed -= states_covered\n",
    "    final_stations.add(best_station)\n",
    "\n",
    "print(final_stations)"
   ]
  },
  {
   "cell_type": "code",
   "execution_count": 114,
   "metadata": {
    "collapsed": true
   },
   "outputs": [],
   "source": [
    "# Поиск в ширину - жадный алгоритм;\n",
    "# Алгоритм  Дейкстры - тоже!\n",
    "\n",
    "# А вот быстрая сортировка - нет."
   ]
  },
  {
   "cell_type": "markdown",
   "metadata": {},
   "source": [
    "### NP-полные задачи"
   ]
  },
  {
   "cell_type": "markdown",
   "metadata": {},
   "source": [
    "#### Для решения NP-полной задачи необходимо использовать приближенный алгоритм"
   ]
  },
  {
   "cell_type": "code",
   "execution_count": 117,
   "metadata": {
    "collapsed": true
   },
   "outputs": [],
   "source": [
    "# Признаки NP-полной задачи:\n",
    "#     - алгоритм сильно замедляется при росте количества элементов;\n",
    "#     - присутствует формулировка \"все комбинации X\";\n",
    "#     - задачу невозможно разбить на меньшие подзадачи;\n",
    "#     - в задаче встречается последовательность, и она не имеет простого решения\n",
    "#     - в задаче встречается множество, и она не имеет простого решения\n",
    "#     - задачу можно переформулировать в условиях известных NP-полных задач\n",
    "#            (таких, как задача о покрытии множества или задача о коммивояжере)"
   ]
  },
  {
   "cell_type": "markdown",
   "metadata": {},
   "source": [
    "## Глава 9: Динамическое программирование"
   ]
  },
  {
   "cell_type": "code",
   "execution_count": null,
   "metadata": {
    "collapsed": true
   },
   "outputs": [],
   "source": [
    "# Динамическое программирование оптимизирует характеристику \n",
    "#     при заданных ограничених.\n",
    "#         - Задача может быть разбита на автономные подзадачи;\n",
    "#         - Автономные подзадачи не зависят друг от друга."
   ]
  },
  {
   "cell_type": "code",
   "execution_count": null,
   "metadata": {
    "collapsed": true
   },
   "outputs": [],
   "source": [
    "# Рекомендации:\n",
    "#     в каждом решении строится таблица;\n",
    "#     значения ячеек соответствуют оптимизированной характеристике;\n",
    "#     каждая ячейка представляет подзадачу."
   ]
  },
  {
   "cell_type": "code",
   "execution_count": null,
   "metadata": {
    "collapsed": true
   },
   "outputs": [],
   "source": [
    "# Не существует едидной формулы \n",
    "#     для вычисления решений методом динамического программирования."
   ]
  },
  {
   "cell_type": "markdown",
   "metadata": {},
   "source": [
    "## Глава 10: Алгоритм k-ближайших соседей"
   ]
  },
  {
   "cell_type": "code",
   "execution_count": 61,
   "metadata": {
    "collapsed": true
   },
   "outputs": [],
   "source": [
    "# Принцип работы:\n",
    "#     - Получаем объект для классификации;\n",
    "#     - Проверяем признаки ближайших к нему объектов;\n",
    "#     - Определяем объект по наиболее схожим ближайшим объектам."
   ]
  },
  {
   "cell_type": "code",
   "execution_count": null,
   "metadata": {
    "collapsed": true
   },
   "outputs": [],
   "source": [
    "# Извлечение признаков - преобразование элемента в список чисел, \n",
    "#     использующихся для сравнения."
   ]
  },
  {
   "cell_type": "code",
   "execution_count": null,
   "metadata": {
    "collapsed": true
   },
   "outputs": [],
   "source": [
    "# Классификация - распределение по категориям;\n",
    "# Регресссия - прогнозирование ответа."
   ]
  },
  {
   "cell_type": "markdown",
   "metadata": {},
   "source": [
    "#### Близость косинусов"
   ]
  },
  {
   "cell_type": "code",
   "execution_count": null,
   "metadata": {
    "collapsed": true
   },
   "outputs": [],
   "source": [
    "# Вместо сравнения расстояния (не самая точная оценка) можно использовать\n",
    "#        сравнение углов двух векторов - об этом стоит почитать!"
   ]
  },
  {
   "cell_type": "code",
   "execution_count": null,
   "metadata": {
    "collapsed": true
   },
   "outputs": [],
   "source": [
    "# Во время работы с алгоритмом k-ближайших соседей\n",
    "#     необходимо правильно выбрать признаки для сравнения:\n",
    "#         - признаки, напрямую связанные с рекомендуемой характеристикой;\n",
    "#         - признаки, не содержащие смещения."
   ]
  },
  {
   "cell_type": "markdown",
   "metadata": {},
   "source": [
    "#### Практическое правило: для N пользователей рассматриваем sqrt(N) соседей."
   ]
  },
  {
   "cell_type": "markdown",
   "metadata": {},
   "source": [
    "### Оптическое распознавание текста"
   ]
  },
  {
   "cell_type": "code",
   "execution_count": 5,
   "metadata": {
    "collapsed": true
   },
   "outputs": [],
   "source": [
    "# Компьютер автоматически преобразует изображение в текст."
   ]
  },
  {
   "cell_type": "code",
   "execution_count": 6,
   "metadata": {
    "collapsed": true
   },
   "outputs": [],
   "source": [
    "# Тренировка - перебор изображения и извлечение признаков."
   ]
  },
  {
   "cell_type": "markdown",
   "metadata": {},
   "source": [
    "### Спам-фильтры"
   ]
  },
  {
   "cell_type": "code",
   "execution_count": 8,
   "metadata": {
    "collapsed": true
   },
   "outputs": [],
   "source": [
    "# Наивный классификатор Байеса оценивает вероятность \n",
    "#     отношения объекта к группе классификации (например, к спаму)."
   ]
  },
  {
   "cell_type": "markdown",
   "metadata": {},
   "source": [
    "## Что дальше?"
   ]
  },
  {
   "cell_type": "markdown",
   "metadata": {},
   "source": [
    "### Деревья"
   ]
  },
  {
   "cell_type": "code",
   "execution_count": 11,
   "metadata": {
    "collapsed": true
   },
   "outputs": [],
   "source": [
    "# Для каждого узла все узлы левого поддерева содержат меньшие значеня,\n",
    "#     а все узлы правого поддерева - большие значения."
   ]
  },
  {
   "cell_type": "code",
   "execution_count": null,
   "metadata": {
    "collapsed": true
   },
   "outputs": [],
   "source": [
    "# Поск, вставка и удаление в бинарном дереве \n",
    "#     в среднем выполняется за время O(log n)."
   ]
  },
  {
   "cell_type": "code",
   "execution_count": null,
   "metadata": {
    "collapsed": true
   },
   "outputs": [],
   "source": [
    "# Бинарные деревья не поддерживают произвольный доступ;\n",
    "# Эффективность дерева зависит от сбалансированности."
   ]
  },
  {
   "cell_type": "code",
   "execution_count": null,
   "metadata": {
    "collapsed": true
   },
   "outputs": [],
   "source": [
    "# B-деревья используются для хранения информации в базах данных;\n",
    "# Также есть:\n",
    "#     - Красно-черные деревья;\n",
    "#     - Кучи;\n",
    "#     - Скошенные (splay) деревья."
   ]
  },
  {
   "cell_type": "markdown",
   "metadata": {},
   "source": [
    "### Инвертированные индексы"
   ]
  },
  {
   "cell_type": "code",
   "execution_count": null,
   "metadata": {
    "collapsed": true
   },
   "outputs": [],
   "source": [
    "# Инвертированный индекс - хэш-таблица, связывающая слова с местами,\n",
    "#     в которых слова встречаются;\n",
    "\n",
    "# Интвертированные индексы часто используются в поисковых системах."
   ]
  },
  {
   "cell_type": "markdown",
   "metadata": {},
   "source": [
    "### Преобразование Фурье"
   ]
  },
  {
   "cell_type": "code",
   "execution_count": 14,
   "metadata": {
    "collapsed": true
   },
   "outputs": [],
   "source": [
    "# 'Если есть коктейль, алгоритм Фурье сообщает, \n",
    "#     из каких ингридиентов он состоит'"
   ]
  },
  {
   "cell_type": "markdown",
   "metadata": {},
   "source": [
    "### Параллельные алгоритмы "
   ]
  },
  {
   "cell_type": "code",
   "execution_count": 16,
   "metadata": {
    "collapsed": true
   },
   "outputs": [],
   "source": [
    "# Чтобы ускорить алгоритм, необходимо выполнять его параллельно \n",
    "#     на всех ядрах процессора."
   ]
  },
  {
   "cell_type": "code",
   "execution_count": 17,
   "metadata": {
    "collapsed": true
   },
   "outputs": [],
   "source": [
    "# Алгоритм сортировки работает за время О(n log n).\n",
    "# Но с параллельным алгоритмом время уменьшается до O(n)!"
   ]
  },
  {
   "cell_type": "code",
   "execution_count": null,
   "metadata": {
    "collapsed": true
   },
   "outputs": [],
   "source": [
    "# Почему выигрыш по времени не линеен:\n",
    "#     - Затрачиваются ресурсы на управление параллелизмом;\n",
    "#     - Нагрузка между ядрами распределяется неравномерно."
   ]
  },
  {
   "cell_type": "markdown",
   "metadata": {},
   "source": [
    "### Map Reduce"
   ]
  },
  {
   "cell_type": "code",
   "execution_count": 19,
   "metadata": {
    "collapsed": true
   },
   "outputs": [],
   "source": [
    "# MapReduce - один из распределенных алгоритмов, \n",
    "#     разновидности параллельных алгоритмов.\n"
   ]
  },
  {
   "cell_type": "code",
   "execution_count": 21,
   "metadata": {
    "collapsed": true
   },
   "outputs": [],
   "source": [
    "# Распределенный алгоритм способен применить сложный SQL-запрос\n",
    "#     к таблице с триллионами записей"
   ]
  },
  {
   "cell_type": "code",
   "execution_count": 22,
   "metadata": {
    "collapsed": true
   },
   "outputs": [],
   "source": [
    "# В основе MapReduce лежат две простые идеи:\n",
    "#     - функция map;\n",
    "#     - функция reduce."
   ]
  },
  {
   "cell_type": "markdown",
   "metadata": {},
   "source": [
    "#### Функция map"
   ]
  },
  {
   "cell_type": "code",
   "execution_count": 31,
   "metadata": {
    "collapsed": false
   },
   "outputs": [
    {
     "data": {
      "text/plain": [
       "[2, 4, 6, 8, 10]"
      ]
     },
     "execution_count": 31,
     "metadata": {},
     "output_type": "execute_result"
    }
   ],
   "source": [
    "arr1 = [1, 2, 3, 4, 5] # функция map принимает массив\n",
    "arr2 = map(lambda x: 2 * x, arr1) # и применяет функцию к каждому его элементу\n",
    "list(arr2)"
   ]
  },
  {
   "cell_type": "markdown",
   "metadata": {},
   "source": [
    "#### Функция reduce"
   ]
  },
  {
   "cell_type": "code",
   "execution_count": 35,
   "metadata": {
    "collapsed": false
   },
   "outputs": [
    {
     "data": {
      "text/plain": [
       "15"
      ]
     },
     "execution_count": 35,
     "metadata": {},
     "output_type": "execute_result"
    }
   ],
   "source": [
    "from functools import reduce\n",
    "arr1 = [1, 2, 3, 4, 5] # функция reduce также принимает массив\n",
    "reduce(lambda x, y: x+y, arr1) # и преобразует его в один элемент"
   ]
  },
  {
   "cell_type": "markdown",
   "metadata": {},
   "source": [
    "### Вероятностные алгоритмы"
   ]
  },
  {
   "cell_type": "markdown",
   "metadata": {},
   "source": [
    "#### Фильтры Блума"
   ]
  },
  {
   "cell_type": "code",
   "execution_count": 37,
   "metadata": {
    "collapsed": true
   },
   "outputs": [],
   "source": [
    "# Фильтры Блума - вероятностные структуры данных. \n",
    "#     Ответ может оказаться ложным, но с большей вероятностью будет верным."
   ]
  },
  {
   "cell_type": "code",
   "execution_count": null,
   "metadata": {
    "collapsed": true
   },
   "outputs": [],
   "source": [
    "# Возможны ложно-положительные срабатывания;\n",
    "# Ложно-отрицательные срабатывания исключены;\n",
    "# Фильтры Блума занимают очень мало места."
   ]
  },
  {
   "cell_type": "markdown",
   "metadata": {},
   "source": [
    "#### HyperlogLog"
   ]
  },
  {
   "cell_type": "code",
   "execution_count": 39,
   "metadata": {
    "collapsed": true
   },
   "outputs": [],
   "source": [
    "# HyperLogLog аппроксимирует количество уникальных элементов в множестве;\n",
    "# В результате он быстро выдает достаточно близкий результат."
   ]
  },
  {
   "cell_type": "markdown",
   "metadata": {},
   "source": [
    "### Алгоритмы SHA"
   ]
  },
  {
   "cell_type": "code",
   "execution_count": 54,
   "metadata": {
    "collapsed": true
   },
   "outputs": [],
   "source": [
    "# SHA-алгорит (Secure Hash Algorithm) получает строку \n",
    "#     и возвращает хеш-код этой строки (он длинный)"
   ]
  },
  {
   "cell_type": "code",
   "execution_count": 40,
   "metadata": {
    "collapsed": true
   },
   "outputs": [],
   "source": [
    "# Алгоритм SHA позволяет определить, совпадают ли два файла;\n",
    "# У одинаковых файлов одинаковые значения хеш-функции!"
   ]
  },
  {
   "cell_type": "code",
   "execution_count": 43,
   "metadata": {
    "collapsed": true
   },
   "outputs": [],
   "source": [
    "# Пароли в БД также хранятся в виде SHA-кода (с односторонним хешированием);\n",
    "# Сравниваются же хеш-коды - без хранения самих паролей!"
   ]
  },
  {
   "cell_type": "markdown",
   "metadata": {},
   "source": [
    "### Локально-чувствительное хеширование"
   ]
  },
  {
   "cell_type": "code",
   "execution_count": 55,
   "metadata": {
    "collapsed": true
   },
   "outputs": [],
   "source": [
    "# Локально-чувствительная функция при незначительном изменении строки\n",
    "#     генеририует хеш-код, почти не отличающийся от исходного;\n",
    "\n",
    "# Благодаря сравнению хеш-кодов можно определять сходство двух строчек."
   ]
  },
  {
   "cell_type": "code",
   "execution_count": null,
   "metadata": {
    "collapsed": true
   },
   "outputs": [],
   "source": [
    "# Такое хеширование реализует алгоритм Simhash."
   ]
  },
  {
   "cell_type": "markdown",
   "metadata": {},
   "source": [
    "### Обмен ключами Диффи-Хеллмана"
   ]
  },
  {
   "cell_type": "code",
   "execution_count": 56,
   "metadata": {
    "collapsed": true
   },
   "outputs": [],
   "source": [
    "# Алгоритм Диффи-Хеллмана позволяет элегантно зашифровать сообщение так,\n",
    "#     чтобы его мог прочитать только тот человек, кому оно адресовано."
   ]
  },
  {
   "cell_type": "code",
   "execution_count": 57,
   "metadata": {
    "collapsed": true
   },
   "outputs": [],
   "source": [
    "# Алгоритм Диффи-Хеллмана подразумевает:\n",
    "#     - знание шифра обеими сторонами не обязательно;\n",
    "#     - расшифровать зашифрованные сообщения чрезвычайно сложно."
   ]
  },
  {
   "cell_type": "code",
   "execution_count": 58,
   "metadata": {
    "collapsed": true
   },
   "outputs": [],
   "source": [
    "# Алгоритм использует два ключа: открытый и закрытый;\n",
    "# Открытый ключ известен обеим сторонам, и он может быть даже публичным;\n",
    "# Отправленное сообщение шифруется с помощью открытого ключа.\n",
    "\n",
    "# Зашифрованное сообщение можно расшифровать только с закрытым ключом;\n",
    "# Закрытый ключ может быть только у одного владельца!"
   ]
  },
  {
   "cell_type": "code",
   "execution_count": 59,
   "metadata": {
    "collapsed": true
   },
   "outputs": [],
   "source": [
    "# Алгоритм RSA - наследник алгоритма Диффи-Хеллмана"
   ]
  },
  {
   "cell_type": "markdown",
   "metadata": {},
   "source": [
    "### Линейное программирование"
   ]
  },
  {
   "cell_type": "code",
   "execution_count": 51,
   "metadata": {
    "collapsed": true
   },
   "outputs": [],
   "source": [
    "# Линейное программирование используется для максимизации \n",
    "#     некоторой характеристики при заданных ограничениях."
   ]
  },
  {
   "cell_type": "code",
   "execution_count": 52,
   "metadata": {
    "collapsed": true
   },
   "outputs": [],
   "source": [
    "# Задачи с графами - подмножество области линейного программирования."
   ]
  },
  {
   "cell_type": "code",
   "execution_count": null,
   "metadata": {
    "collapsed": true
   },
   "outputs": [],
   "source": [
    "# В линейном программировании используется симплекс-метод."
   ]
  },
  {
   "cell_type": "markdown",
   "metadata": {},
   "source": [
    "## Эпилог"
   ]
  },
  {
   "cell_type": "markdown",
   "metadata": {},
   "source": [
    "###### Найдите тему, которая интересует вас, и изучайте ее!"
   ]
  }
 ],
 "metadata": {
  "anaconda-cloud": {},
  "kernelspec": {
   "display_name": "Python [conda root]",
   "language": "python",
   "name": "conda-root-py"
  },
  "language_info": {
   "codemirror_mode": {
    "name": "ipython",
    "version": 3
   },
   "file_extension": ".py",
   "mimetype": "text/x-python",
   "name": "python",
   "nbconvert_exporter": "python",
   "pygments_lexer": "ipython3",
   "version": "3.5.2"
  }
 },
 "nbformat": 4,
 "nbformat_minor": 1
}
