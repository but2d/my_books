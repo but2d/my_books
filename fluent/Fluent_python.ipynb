{
 "cells": [
  {
   "cell_type": "markdown",
   "metadata": {},
   "source": [
    "# К вершинам мастерства"
   ]
  },
  {
   "cell_type": "markdown",
   "metadata": {},
   "source": [
    "##### Ссылка на книгу:"
   ]
  },
  {
   "cell_type": "code",
   "execution_count": 4,
   "metadata": {
    "collapsed": false
   },
   "outputs": [
    {
     "data": {
      "text/plain": [
       "True"
      ]
     },
     "execution_count": 4,
     "metadata": {},
     "output_type": "execute_result"
    }
   ],
   "source": [
    "import webbrowser\n",
    "book_url = 'https://drive.google.com/file/d/1VudclpuOcUWiR3bh05UtQc4rmYuw0Kiz/view?usp=sharing'\n",
    "webbrowser.open(book_url)"
   ]
  },
  {
   "cell_type": "markdown",
   "metadata": {},
   "source": [
    "##### Репозиторий книги:"
   ]
  },
  {
   "cell_type": "code",
   "execution_count": 3,
   "metadata": {
    "collapsed": false
   },
   "outputs": [
    {
     "data": {
      "text/plain": [
       "True"
      ]
     },
     "execution_count": 3,
     "metadata": {},
     "output_type": "execute_result"
    }
   ],
   "source": [
    "url = 'https://github.com/fluentpython/example-code'\n",
    "webbrowser.open(url)"
   ]
  },
  {
   "cell_type": "markdown",
   "metadata": {},
   "source": [
    "## Оглавление"
   ]
  },
  {
   "cell_type": "markdown",
   "metadata": {},
   "source": [
    "### Часть I"
   ]
  },
  {
   "cell_type": "code",
   "execution_count": 17,
   "metadata": {
    "collapsed": true
   },
   "outputs": [],
   "source": [
    "# Содержит одну главу, посвященную модели данных в Python.\n",
    "\n",
    "# Объясняет, как в Python обеспечивается единообразное поведение объектов.  "
   ]
  },
  {
   "cell_type": "markdown",
   "metadata": {},
   "source": [
    "### Часть II"
   ]
  },
  {
   "cell_type": "code",
   "execution_count": 18,
   "metadata": {
    "collapsed": true
   },
   "outputs": [],
   "source": [
    "# Рассматриваются типы коллекций:\n",
    "#     - последовательности;\n",
    "#     - отображения;\n",
    "#     - множества...\n",
    "\n",
    "# Сравниваются типы, такие как str и bytes."
   ]
  },
  {
   "cell_type": "markdown",
   "metadata": {},
   "source": [
    "### Часть III"
   ]
  },
  {
   "cell_type": "code",
   "execution_count": 19,
   "metadata": {
    "collapsed": true
   },
   "outputs": [],
   "source": [
    "# Обсуждаются функции как объекты, паттерны проектирования,\n",
    "#     декораторы функций...\n",
    "\n",
    "# Рассматриваются идея вызываемых объектов,  атрибуты функций,\n",
    "#     интроспекция, аннотации параметром и объявление nonlocal."
   ]
  },
  {
   "cell_type": "markdown",
   "metadata": {},
   "source": [
    "### Часть IV"
   ]
  },
  {
   "cell_type": "code",
   "execution_count": 20,
   "metadata": {
    "collapsed": true
   },
   "outputs": [],
   "source": [
    "# Объясняется, как работает механизм ссылок, что означает изменчивость,\n",
    "#     как устроен цикл объектов, как создать свою коллекцию\n",
    "#         или абстрактный базовый класс, как справиться с множ. наследованием\n",
    "#             и как реализовать перегрузку операторов."
   ]
  },
  {
   "cell_type": "markdown",
   "metadata": {},
   "source": [
    "### Часть V"
   ]
  },
  {
   "cell_type": "code",
   "execution_count": 21,
   "metadata": {
    "collapsed": true
   },
   "outputs": [],
   "source": [
    "# Рассматриваются генераторы, контекстные менеджеры и сопрограммы\n",
    "#     (в том числе конструкция yeild from).\n",
    "\n",
    "# Глава заканчивается введением в современный модуль asyncio."
   ]
  },
  {
   "cell_type": "markdown",
   "metadata": {},
   "source": [
    "### Часть VI"
   ]
  },
  {
   "cell_type": "code",
   "execution_count": 22,
   "metadata": {
    "collapsed": true
   },
   "outputs": [],
   "source": [
    "# Рассматриваются способы создания классов с динамически создаваемыми атрибутами,\n",
    "#     полезными для обработки таких данных, как JSON.\n",
    "\n",
    "# Обращается внимание на доступ к атбрибутам объекта с помощью дескрипторов.\n",
    "\n",
    "# Объясняется связь между функциями, методами и дескрипторами.\n",
    "\n",
    "# На примере библиотеки вскрываются тонкости, ввиду которых \n",
    "#     необходимо применять декораторы классов и метаклассов."
   ]
  }
 ],
 "metadata": {
  "anaconda-cloud": {},
  "kernelspec": {
   "display_name": "Python [default]",
   "language": "python",
   "name": "python3"
  },
  "language_info": {
   "codemirror_mode": {
    "name": "ipython",
    "version": 3
   },
   "file_extension": ".py",
   "mimetype": "text/x-python",
   "name": "python",
   "nbconvert_exporter": "python",
   "pygments_lexer": "ipython3",
   "version": "3.5.2"
  }
 },
 "nbformat": 4,
 "nbformat_minor": 1
}
