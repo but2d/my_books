{
 "cells": [
  {
   "cell_type": "markdown",
   "metadata": {
    "collapsed": true
   },
   "source": [
    "# Second Part"
   ]
  },
  {
   "cell_type": "markdown",
   "metadata": {
    "collapsed": true
   },
   "source": [
    "## Глава 3"
   ]
  },
  {
   "cell_type": "markdown",
   "metadata": {
    "collapsed": true
   },
   "source": [
    "### Словари и множества"
   ]
  },
  {
   "cell_type": "code",
   "execution_count": 4,
   "metadata": {
    "collapsed": true
   },
   "outputs": [],
   "source": [
    "# Хэш-таблицы - словари, dict, {} - широко используются\n",
    "#     как в пользовательских кодах, так и в реализации Python.\n",
    "\n",
    "# Все встроенные функции хранятся в словаре __builtins__.__dict__.\n",
    "\n",
    "# Кроме словарей, в данной главе будут также рассмотрены множества:\n",
    "#     структуры данных, тоже реализованные с помощью хэш-таблиц.\n",
    "\n",
    "\n",
    "# Краткое содержание главы:\n",
    "\n",
    "#     - Часто используемые методы словаря;\n",
    "\n",
    "#     - Специальная обработка отсутствия ключа;\n",
    "\n",
    "#     - Различные вариации типа dict в стандартной библиотеке;\n",
    "\n",
    "#     - Типы set и frozenset;\n",
    "\n",
    "#     - Как работают хэш-таблицы;\n",
    "\n",
    "#     - Следствия механизма работы хэш-таблиц."
   ]
  },
  {
   "cell_type": "markdown",
   "metadata": {
    "collapsed": true
   },
   "source": [
    "### Общие типы отображений"
   ]
  },
  {
   "cell_type": "code",
   "execution_count": 6,
   "metadata": {
    "collapsed": true
   },
   "outputs": [],
   "source": [
    "# Модуль collections.abc содержит абстрактные базовые классы\n",
    "#     Mapping и MutapbleMapping, формализирующие интерфейсы dict."
   ]
  },
  {
   "cell_type": "code",
   "execution_count": 10,
   "metadata": {
    "collapsed": false
   },
   "outputs": [
    {
     "data": {
      "text/plain": [
       "True"
      ]
     },
     "execution_count": 10,
     "metadata": {},
     "output_type": "execute_result"
    }
   ],
   "source": [
    "from collections import abc\n",
    "my_dict = {}\n",
    "isinstance(my_dict, abc.Mapping)"
   ]
  },
  {
   "cell_type": "markdown",
   "metadata": {
    "collapsed": true
   },
   "source": [
    "##### Ключи словаря должны быть хэшируемыми!"
   ]
  },
  {
   "cell_type": "code",
   "execution_count": 12,
   "metadata": {
    "collapsed": true
   },
   "outputs": [],
   "source": [
    "# Объект называется хэшируемым, если имеет хэш-значение,\n",
    "#     которое не изменеся на протяжении времени его жизни\n",
    "#         (у него должен быть метод __hash__()),\n",
    "#             и допускает сравнение с другими объектами\n",
    "#                 (у него должен быть метод __eq__()).\n",
    "\n",
    "# У равных объектов должны быть равны хэш-значеничя."
   ]
  },
  {
   "cell_type": "code",
   "execution_count": 13,
   "metadata": {
    "collapsed": true
   },
   "outputs": [],
   "source": [
    "# Все атомарные неизменяемые типы (str, bytes, числовые типы)\n",
    "#     являются хэшируемыми.\n",
    "# Объект типа frozenset всегда хэшируемый,\n",
    "#     т.к. все его элементы хэшируемые по определению.\n",
    "\n",
    "# Объект типа tuple является хэшируемым только тогда,\n",
    "#     когда хэшируемы все его элементы."
   ]
  },
  {
   "cell_type": "code",
   "execution_count": 14,
   "metadata": {
    "collapsed": false
   },
   "outputs": [
    {
     "data": {
      "text/plain": [
       "8027212646858338501"
      ]
     },
     "execution_count": 14,
     "metadata": {},
     "output_type": "execute_result"
    }
   ],
   "source": [
    "tt = (1, 2, (30, 40))\n",
    "hash(tt)"
   ]
  },
  {
   "cell_type": "code",
   "execution_count": 17,
   "metadata": {
    "collapsed": false
   },
   "outputs": [
    {
     "ename": "TypeError",
     "evalue": "unhashable type: 'list'",
     "output_type": "error",
     "traceback": [
      "\u001b[0;31m---------------------------------------------------------------------------\u001b[0m",
      "\u001b[0;31mTypeError\u001b[0m                                 Traceback (most recent call last)",
      "\u001b[0;32m<ipython-input-17-d2eaad7bd112>\u001b[0m in \u001b[0;36m<module>\u001b[0;34m()\u001b[0m\n\u001b[1;32m      1\u001b[0m \u001b[0mtl\u001b[0m \u001b[1;33m=\u001b[0m \u001b[1;33m(\u001b[0m\u001b[1;36m1\u001b[0m\u001b[1;33m,\u001b[0m \u001b[1;36m2\u001b[0m\u001b[1;33m,\u001b[0m \u001b[1;33m[\u001b[0m\u001b[1;36m30\u001b[0m\u001b[1;33m,\u001b[0m \u001b[1;36m40\u001b[0m\u001b[1;33m]\u001b[0m\u001b[1;33m)\u001b[0m\u001b[1;33m\u001b[0m\u001b[0m\n\u001b[0;32m----> 2\u001b[0;31m \u001b[0mhash\u001b[0m\u001b[1;33m(\u001b[0m\u001b[0mtl\u001b[0m\u001b[1;33m)\u001b[0m\u001b[1;33m\u001b[0m\u001b[0m\n\u001b[0m",
      "\u001b[0;31mTypeError\u001b[0m: unhashable type: 'list'"
     ]
    }
   ],
   "source": [
    "tl = (1, 2, [30, 40])\n",
    "hash(tl)"
   ]
  },
  {
   "cell_type": "code",
   "execution_count": 20,
   "metadata": {
    "collapsed": false
   },
   "outputs": [
    {
     "data": {
      "text/plain": [
       "-4118419923444501110"
      ]
     },
     "execution_count": 20,
     "metadata": {},
     "output_type": "execute_result"
    }
   ],
   "source": [
    "tf = (1, 2, frozenset([30, 40]))\n",
    "hash(tf)"
   ]
  },
  {
   "cell_type": "code",
   "execution_count": 22,
   "metadata": {
    "collapsed": true
   },
   "outputs": [],
   "source": [
    "# Любой пользовательский тип является хэшируемым по определению,\n",
    "#     т.к. его хэш-значение равно id(), и id() объекта уникален.\n",
    "\n",
    "# Если объект реализует метод __eq__, то он будет хэшируемым,\n",
    "#     только если все атрибуты неизменяемые."
   ]
  },
  {
   "cell_type": "code",
   "execution_count": 25,
   "metadata": {
    "collapsed": false
   },
   "outputs": [
    {
     "data": {
      "text/plain": [
       "True"
      ]
     },
     "execution_count": 25,
     "metadata": {},
     "output_type": "execute_result"
    }
   ],
   "source": [
    "a = dict(one=1, two=2, three=3)\n",
    "b = {'one': 1, 'two': 2, 'three': 3}\n",
    "c = dict(zip(['one', 'two', 'three'], [1, 2, 3]))\n",
    "d = dict([('two', 2), ('one', 1), ('three', 3)])\n",
    "e = dict({'three': 3, 'one': 1, 'two': 2})\n",
    "a == b == c == d == e"
   ]
  },
  {
   "cell_type": "markdown",
   "metadata": {
    "collapsed": true
   },
   "source": [
    "### Словарное включение"
   ]
  },
  {
   "cell_type": "code",
   "execution_count": 27,
   "metadata": {
    "collapsed": true
   },
   "outputs": [],
   "source": [
    "# Dictcomp строит объект dict, \n",
    "#     порождая пары key:value из итерируемого объекта."
   ]
  },
  {
   "cell_type": "code",
   "execution_count": 31,
   "metadata": {
    "collapsed": false
   },
   "outputs": [
    {
     "data": {
      "text/plain": [
       "{'Bangladesh': 880,\n",
       " 'Brazil': 55,\n",
       " 'China': 86,\n",
       " 'India': 91,\n",
       " 'Indonesia': 62,\n",
       " 'Japan': 81,\n",
       " 'Nigeria': 234,\n",
       " 'Pakistan': 92,\n",
       " 'Russia': 7,\n",
       " 'United States': 1}"
      ]
     },
     "execution_count": 31,
     "metadata": {},
     "output_type": "execute_result"
    }
   ],
   "source": [
    "DIAL_CODES = [\n",
    "    (86, 'China'),\n",
    "    (91, 'India'),\n",
    "    (1, 'United States'),\n",
    "    (62, 'Indonesia'),\n",
    "    (55, 'Brazil'),\n",
    "    (92, 'Pakistan'),\n",
    "    (880, 'Bangladesh'),\n",
    "    (234, 'Nigeria'),\n",
    "    (7, 'Russia'),\n",
    "    (81, 'Japan')\n",
    "]\n",
    "\n",
    "country_code = {country: code for code, country in DIAL_CODES}\n",
    "country_code"
   ]
  },
  {
   "cell_type": "code",
   "execution_count": 32,
   "metadata": {
    "collapsed": false
   },
   "outputs": [
    {
     "data": {
      "text/plain": [
       "{1: 'UNITED STATES', 7: 'RUSSIA', 55: 'BRAZIL', 62: 'INDONESIA'}"
      ]
     },
     "execution_count": 32,
     "metadata": {},
     "output_type": "execute_result"
    }
   ],
   "source": [
    "{code: country.upper() for country, code in country_code.items() if code < 66}"
   ]
  },
  {
   "cell_type": "markdown",
   "metadata": {
    "collapsed": true
   },
   "source": [
    "### Обзор наиболее употребительных методов отображений"
   ]
  },
  {
   "cell_type": "code",
   "execution_count": 34,
   "metadata": {
    "collapsed": true
   },
   "outputs": [],
   "source": [
    "# Взглянем на метод .update(m, [**kargs]):\n",
    "\n",
    "# Сначала он проверяет, есть ли у m метод keys,\n",
    "#     если да, то он предпалагается как отображение.\n",
    "\n",
    "# В противном случае update производит обход m\n",
    "#     в предположении, что элементами яявляются пары (key, value).\n",
    "\n",
    "# Это пример динамическое типизации (duck typing)."
   ]
  },
  {
   "cell_type": "markdown",
   "metadata": {
    "collapsed": true
   },
   "source": [
    "#### Обработка отсутствия ключей с помощью setdefault"
   ]
  },
  {
   "cell_type": "code",
   "execution_count": 36,
   "metadata": {
    "collapsed": true
   },
   "outputs": [],
   "source": [
    "# Доступ к словарю dict[key] возбуждает исключение,\n",
    "#     если ключ отсутствует.\n",
    "\n",
    "# Конструкция dict.get(k, default) позволяет \n",
    "#     обрабатывать значение по умолчанию вместо KeyError.\n",
    "\n",
    "# Тем не менее, и данный способ может быть неоптимальным:"
   ]
  },
  {
   "cell_type": "code",
   "execution_count": 41,
   "metadata": {
    "collapsed": false
   },
   "outputs": [
    {
     "data": {
      "text/plain": [
       "['.ipynb_checkpoints',\n",
       " 'Fluent Python Chapter 2.ipynb',\n",
       " 'Fluent Python Chapter 3.ipynb',\n",
       " 'zen.txt']"
      ]
     },
     "execution_count": 41,
     "metadata": {},
     "output_type": "execute_result"
    }
   ],
   "source": [
    "import os\n",
    "os.listdir()"
   ]
  },
  {
   "cell_type": "code",
   "execution_count": 44,
   "metadata": {
    "collapsed": true
   },
   "outputs": [
    {
     "name": "stdout",
     "output_type": "stream",
     "text": [
      "a [(16, 48), (17, 48), (18, 53)]\n",
      "Although [(9, 1), (14, 1), (16, 1)]\n",
      "ambiguity [(12, 16)]\n",
      "and [(13, 21)]\n",
      "are [(19, 12)]\n",
      "aren [(8, 15)]\n",
      "at [(14, 38)]\n",
      "bad [(17, 50)]\n",
      "be [(13, 14), (14, 27), (18, 50)]\n",
      "beats [(9, 23)]\n",
      "Beautiful [(1, 1)]\n",
      "better [(1, 14), (2, 13), (3, 11), (4, 12), (5, 9), (6, 11), (15, 8), (16, 25)]\n",
      "break [(8, 40)]\n",
      "cases [(8, 9)]\n",
      "complex [(3, 23)]\n",
      "Complex [(4, 1)]\n",
      "complicated [(4, 24)]\n",
      "counts [(7, 13)]\n",
      "dense [(6, 23)]\n",
      "do [(13, 60), (19, 45)]\n",
      "Dutch [(14, 61)]\n",
      "easy [(18, 26)]\n",
      "enough [(8, 30)]\n",
      "Errors [(10, 1)]\n",
      "explain [(17, 34), (18, 34)]\n",
      "Explicit [(2, 1)]\n",
      "explicitly [(11, 8)]\n",
      "face [(12, 8)]\n",
      "first [(14, 41)]\n",
      "Flat [(5, 1)]\n",
      "good [(18, 55)]\n",
      "great [(19, 28)]\n",
      "guess [(12, 52)]\n",
      "hard [(17, 26)]\n",
      "honking [(19, 20)]\n",
      "idea [(17, 54), (18, 60), (19, 34)]\n",
      "If [(17, 1), (18, 1)]\n",
      "implementation [(17, 8), (18, 8)]\n",
      "implicit [(2, 25)]\n",
      "In [(12, 1)]\n",
      "is [(1, 11), (2, 10), (3, 8), (4, 9), (5, 6), (6, 8), (15, 5), (16, 16), (17, 23), (18, 23)]\n",
      "it [(13, 63), (17, 43), (18, 43)]\n",
      "let [(19, 39)]\n",
      "may [(14, 19), (18, 46)]\n",
      "more [(19, 48)]\n",
      "Namespaces [(19, 1)]\n",
      "nested [(5, 21)]\n",
      "never [(10, 15), (15, 20), (16, 10)]\n",
      "not [(14, 23)]\n",
      "Now [(15, 1)]\n",
      "now [(16, 43)]\n",
      "obvious [(13, 45), (14, 30)]\n",
      "of [(12, 13), (19, 53)]\n",
      "often [(16, 19)]\n",
      "one [(13, 17), (13, 41), (19, 16)]\n",
      "only [(13, 36)]\n",
      "pass [(10, 21)]\n",
      "practicality [(9, 10)]\n",
      "preferably [(13, 25)]\n",
      "purity [(9, 29)]\n",
      "re [(14, 58)]\n",
      "Readability [(7, 1)]\n",
      "refuse [(12, 27)]\n",
      "right [(16, 37)]\n",
      "rules [(8, 50)]\n",
      "s [(17, 46), (19, 43)]\n",
      "should [(10, 8), (13, 7)]\n",
      "silenced [(11, 19)]\n",
      "silently [(10, 26)]\n",
      "Simple [(3, 1)]\n",
      "Sparse [(6, 1)]\n",
      "special [(8, 22)]\n",
      "Special [(8, 1)]\n",
      "t [(8, 20)]\n",
      "temptation [(12, 38)]\n",
      "than [(1, 21), (2, 20), (3, 18), (4, 19), (5, 16), (6, 18), (15, 15), (16, 32)]\n",
      "that [(14, 10)]\n",
      "the [(8, 46), (12, 4), (12, 34), (17, 4), (18, 4)]\n",
      "There [(13, 1)]\n",
      "those [(19, 56)]\n",
      "to [(8, 37), (12, 49), (13, 57), (17, 31), (18, 31)]\n",
      "ugly [(1, 26)]\n",
      "Unless [(11, 1)]\n",
      "unless [(14, 47)]\n",
      "way [(13, 53), (14, 15)]\n",
      "you [(14, 54)]\n"
     ]
    }
   ],
   "source": [
    "import sys\n",
    "import re\n",
    "\n",
    "WORD_RE = re.compile('\\w+')\n",
    "\n",
    "index = {}\n",
    "\n",
    "with open('zen.txt', encoding='cp1252') as fp:\n",
    "    for line_no, line in enumerate(fp, 1):\n",
    "        for match in WORD_RE.finditer(line):\n",
    "            word = match.group()\n",
    "            column_no = match.start() + 1\n",
    "            location = (line_no, column_no)\n",
    "            # не стоит так писать:\n",
    "            occurences = index.get(word, []) # список вхождений или []\n",
    "            occurences.append(location) # добавляем новое вхождение\n",
    "            index[word] = occurences # помещаем список в словарь\n",
    "\n",
    "for word in sorted(index, key=str.upper): # передаем key ссылку  на метод\n",
    "    print(word, index[word])"
   ]
  },
  {
   "cell_type": "code",
   "execution_count": 45,
   "metadata": {
    "collapsed": true
   },
   "outputs": [
    {
     "name": "stdout",
     "output_type": "stream",
     "text": [
      "a [(16, 48), (17, 48), (18, 53)]\n",
      "Although [(9, 1), (14, 1), (16, 1)]\n",
      "ambiguity [(12, 16)]\n",
      "and [(13, 21)]\n",
      "are [(19, 12)]\n",
      "aren [(8, 15)]\n",
      "at [(14, 38)]\n",
      "bad [(17, 50)]\n",
      "be [(13, 14), (14, 27), (18, 50)]\n",
      "beats [(9, 23)]\n",
      "Beautiful [(1, 1)]\n",
      "better [(1, 14), (2, 13), (3, 11), (4, 12), (5, 9), (6, 11), (15, 8), (16, 25)]\n",
      "break [(8, 40)]\n",
      "cases [(8, 9)]\n",
      "complex [(3, 23)]\n",
      "Complex [(4, 1)]\n",
      "complicated [(4, 24)]\n",
      "counts [(7, 13)]\n",
      "dense [(6, 23)]\n",
      "do [(13, 60), (19, 45)]\n",
      "Dutch [(14, 61)]\n",
      "easy [(18, 26)]\n",
      "enough [(8, 30)]\n",
      "Errors [(10, 1)]\n",
      "explain [(17, 34), (18, 34)]\n",
      "Explicit [(2, 1)]\n",
      "explicitly [(11, 8)]\n",
      "face [(12, 8)]\n",
      "first [(14, 41)]\n",
      "Flat [(5, 1)]\n",
      "good [(18, 55)]\n",
      "great [(19, 28)]\n",
      "guess [(12, 52)]\n",
      "hard [(17, 26)]\n",
      "honking [(19, 20)]\n",
      "idea [(17, 54), (18, 60), (19, 34)]\n",
      "If [(17, 1), (18, 1)]\n",
      "implementation [(17, 8), (18, 8)]\n",
      "implicit [(2, 25)]\n",
      "In [(12, 1)]\n",
      "is [(1, 11), (2, 10), (3, 8), (4, 9), (5, 6), (6, 8), (15, 5), (16, 16), (17, 23), (18, 23)]\n",
      "it [(13, 63), (17, 43), (18, 43)]\n",
      "let [(19, 39)]\n",
      "may [(14, 19), (18, 46)]\n",
      "more [(19, 48)]\n",
      "Namespaces [(19, 1)]\n",
      "nested [(5, 21)]\n",
      "never [(10, 15), (15, 20), (16, 10)]\n",
      "not [(14, 23)]\n",
      "Now [(15, 1)]\n",
      "now [(16, 43)]\n",
      "obvious [(13, 45), (14, 30)]\n",
      "of [(12, 13), (19, 53)]\n",
      "often [(16, 19)]\n",
      "one [(13, 17), (13, 41), (19, 16)]\n",
      "only [(13, 36)]\n",
      "pass [(10, 21)]\n",
      "practicality [(9, 10)]\n",
      "preferably [(13, 25)]\n",
      "purity [(9, 29)]\n",
      "re [(14, 58)]\n",
      "Readability [(7, 1)]\n",
      "refuse [(12, 27)]\n",
      "right [(16, 37)]\n",
      "rules [(8, 50)]\n",
      "s [(17, 46), (19, 43)]\n",
      "should [(10, 8), (13, 7)]\n",
      "silenced [(11, 19)]\n",
      "silently [(10, 26)]\n",
      "Simple [(3, 1)]\n",
      "Sparse [(6, 1)]\n",
      "special [(8, 22)]\n",
      "Special [(8, 1)]\n",
      "t [(8, 20)]\n",
      "temptation [(12, 38)]\n",
      "than [(1, 21), (2, 20), (3, 18), (4, 19), (5, 16), (6, 18), (15, 15), (16, 32)]\n",
      "that [(14, 10)]\n",
      "the [(8, 46), (12, 4), (12, 34), (17, 4), (18, 4)]\n",
      "There [(13, 1)]\n",
      "those [(19, 56)]\n",
      "to [(8, 37), (12, 49), (13, 57), (17, 31), (18, 31)]\n",
      "ugly [(1, 26)]\n",
      "Unless [(11, 1)]\n",
      "unless [(14, 47)]\n",
      "way [(13, 53), (14, 15)]\n",
      "you [(14, 54)]\n"
     ]
    }
   ],
   "source": [
    "WORD_RE = re.compile('\\w+')\n",
    "\n",
    "index = {}\n",
    "\n",
    "with open('zen.txt', encoding='cp1252') as fp:\n",
    "    for line_no, line in enumerate(fp, 1):\n",
    "        for match in WORD_RE.finditer(line):\n",
    "            word = match.group()\n",
    "            column_no = match.start() + 1\n",
    "            location = (line_no, column_no)\n",
    "            \n",
    "            index.setdefault(word, []).append(location)\n",
    "\n",
    "for word in sorted(index, key=str.upper): # передаем key ссылку  на метод\n",
    "    print(word, index[word])"
   ]
  },
  {
   "cell_type": "markdown",
   "metadata": {
    "collapsed": true
   },
   "source": [
    "### Отображения с гибким поиском по ключу"
   ]
  },
  {
   "cell_type": "code",
   "execution_count": 47,
   "metadata": {
    "collapsed": true
   },
   "outputs": [],
   "source": [
    "# Удобно, чтобы отображение возвращало специальное значение,\n",
    "#     если искомый ключ отсутствует. \n",
    "\n",
    "# Для реализации можно как использовать класс defaultdict,\n",
    "#     так и создать подкласс отображения с методом __missing__."
   ]
  },
  {
   "cell_type": "markdown",
   "metadata": {
    "collapsed": true
   },
   "source": [
    "#### Defaultdict: еще один подход к обработке отсутствия ключа"
   ]
  },
  {
   "cell_type": "code",
   "execution_count": 49,
   "metadata": {
    "collapsed": true
   },
   "outputs": [],
   "source": [
    "# Объект collections.defaultdict элегантно решает предыдущую задачу.\n",
    "\n",
    "# Он сконфигурирован так, что по запросу возвращает элементы,\n",
    "#     когда искомый ключ отсутствует:\n",
    "\n",
    "#         - При конструировании объекта defaultdict задается вызываемый объект;\n",
    "         \n",
    "#         - Объект порождает значение по умолчанию;\n",
    "\n",
    "#         - Это происходит каждый раз, \n",
    "#               когда методу __getitem__ передается ключ,\n",
    "#                   отсутствующий в словаре.\n",
    "\n",
    "# Например, dd = defaultdict(list).\n",
    "\n",
    "# Если ключ 'new-key' отсутствует в dd, \n",
    "#     при вычислении dd['new-key'] выполняются следующие действия:\n",
    "\n",
    "#         1. Вызывается list() для создания нового списка;\n",
    "#         2. Список вставляется в dd в качестве значения ключа 'new-key';\n",
    "#         3. Возвращается ссылка на список."
   ]
  },
  {
   "cell_type": "code",
   "execution_count": 50,
   "metadata": {
    "collapsed": false
   },
   "outputs": [
    {
     "data": {
      "text/plain": [
       "['.ipynb_checkpoints',\n",
       " 'Fluent Python Chapter 2.ipynb',\n",
       " 'Fluent Python Chapter 3.ipynb',\n",
       " 'zen.txt']"
      ]
     },
     "execution_count": 50,
     "metadata": {},
     "output_type": "execute_result"
    }
   ],
   "source": [
    "import os\n",
    "os.listdir()"
   ]
  },
  {
   "cell_type": "code",
   "execution_count": 52,
   "metadata": {
    "collapsed": true
   },
   "outputs": [
    {
     "name": "stdout",
     "output_type": "stream",
     "text": [
      "a [(16, 48), (17, 48), (18, 53)]\n",
      "Although [(9, 1), (14, 1), (16, 1)]\n",
      "ambiguity [(12, 16)]\n",
      "and [(13, 21)]\n",
      "are [(19, 12)]\n",
      "aren [(8, 15)]\n",
      "at [(14, 38)]\n",
      "bad [(17, 50)]\n",
      "be [(13, 14), (14, 27), (18, 50)]\n",
      "beats [(9, 23)]\n",
      "Beautiful [(1, 1)]\n",
      "better [(1, 14), (2, 13), (3, 11), (4, 12), (5, 9), (6, 11), (15, 8), (16, 25)]\n",
      "break [(8, 40)]\n",
      "cases [(8, 9)]\n",
      "complex [(3, 23)]\n",
      "Complex [(4, 1)]\n",
      "complicated [(4, 24)]\n",
      "counts [(7, 13)]\n",
      "dense [(6, 23)]\n",
      "do [(13, 60), (19, 45)]\n",
      "Dutch [(14, 61)]\n",
      "easy [(18, 26)]\n",
      "enough [(8, 30)]\n",
      "Errors [(10, 1)]\n",
      "explain [(17, 34), (18, 34)]\n",
      "Explicit [(2, 1)]\n",
      "explicitly [(11, 8)]\n",
      "face [(12, 8)]\n",
      "first [(14, 41)]\n",
      "Flat [(5, 1)]\n",
      "good [(18, 55)]\n",
      "great [(19, 28)]\n",
      "guess [(12, 52)]\n",
      "hard [(17, 26)]\n",
      "honking [(19, 20)]\n",
      "idea [(17, 54), (18, 60), (19, 34)]\n",
      "If [(17, 1), (18, 1)]\n",
      "implementation [(17, 8), (18, 8)]\n",
      "implicit [(2, 25)]\n",
      "In [(12, 1)]\n",
      "is [(1, 11), (2, 10), (3, 8), (4, 9), (5, 6), (6, 8), (15, 5), (16, 16), (17, 23), (18, 23)]\n",
      "it [(13, 63), (17, 43), (18, 43)]\n",
      "let [(19, 39)]\n",
      "may [(14, 19), (18, 46)]\n",
      "more [(19, 48)]\n",
      "Namespaces [(19, 1)]\n",
      "nested [(5, 21)]\n",
      "never [(10, 15), (15, 20), (16, 10)]\n",
      "not [(14, 23)]\n",
      "Now [(15, 1)]\n",
      "now [(16, 43)]\n",
      "obvious [(13, 45), (14, 30)]\n",
      "of [(12, 13), (19, 53)]\n",
      "often [(16, 19)]\n",
      "one [(13, 17), (13, 41), (19, 16)]\n",
      "only [(13, 36)]\n",
      "pass [(10, 21)]\n",
      "practicality [(9, 10)]\n",
      "preferably [(13, 25)]\n",
      "purity [(9, 29)]\n",
      "re [(14, 58)]\n",
      "Readability [(7, 1)]\n",
      "refuse [(12, 27)]\n",
      "right [(16, 37)]\n",
      "rules [(8, 50)]\n",
      "s [(17, 46), (19, 43)]\n",
      "should [(10, 8), (13, 7)]\n",
      "silenced [(11, 19)]\n",
      "silently [(10, 26)]\n",
      "Simple [(3, 1)]\n",
      "Sparse [(6, 1)]\n",
      "special [(8, 22)]\n",
      "Special [(8, 1)]\n",
      "t [(8, 20)]\n",
      "temptation [(12, 38)]\n",
      "than [(1, 21), (2, 20), (3, 18), (4, 19), (5, 16), (6, 18), (15, 15), (16, 32)]\n",
      "that [(14, 10)]\n",
      "the [(8, 46), (12, 4), (12, 34), (17, 4), (18, 4)]\n",
      "There [(13, 1)]\n",
      "those [(19, 56)]\n",
      "to [(8, 37), (12, 49), (13, 57), (17, 31), (18, 31)]\n",
      "ugly [(1, 26)]\n",
      "Unless [(11, 1)]\n",
      "unless [(14, 47)]\n",
      "way [(13, 53), (14, 15)]\n",
      "you [(14, 54)]\n"
     ]
    }
   ],
   "source": [
    "import sys\n",
    "import re\n",
    "import collections\n",
    "\n",
    "WORD_RE = re.compile('\\w+')\n",
    "\n",
    "index = collections.defaultdict(list) # создаем defaultdict с конструктором list\n",
    "with open('zen.txt', encoding='cp1252') as fp:\n",
    "    for line_no, line in enumerate(fp, 1):\n",
    "        for match in WORD_RE.finditer(line):\n",
    "            word = match.group()\n",
    "            column_no = match.start() + 1\n",
    "            location = (line_no, column_no)\n",
    "            index[word].append(location) # если word еще нет в index,\n",
    "                            # то вызывается функция default_factory,\n",
    "                            # порождающее отсутствующее значение;\n",
    "                            # значение присваивается и возвращается,\n",
    "                            # так что append всегда завершается успешно\n",
    "\n",
    "for word in sorted(index, key=str.upper):\n",
    "    print(word, index[word])"
   ]
  },
  {
   "cell_type": "code",
   "execution_count": 53,
   "metadata": {
    "collapsed": true
   },
   "outputs": [],
   "source": [
    "# Атрибут default_factory объекта defaultdict вызывается для того,\n",
    "#     чтобы предоставить значение по умолчанию \n",
    "#         при обращении к методу __getitem__;\n",
    "\n",
    "# Если dd - объект класса defaultdict и k - отсутствующий ключ,\n",
    "#     при вычислении dd[k] происходит обращение к default_factory\n",
    "#         для создания значения по умолчанию;\n",
    "\n",
    "# Вызов же dd.get(k) все равно возвращает None."
   ]
  },
  {
   "cell_type": "markdown",
   "metadata": {
    "collapsed": true
   },
   "source": [
    "#### Метод __missing__"
   ]
  },
  {
   "cell_type": "code",
   "execution_count": 55,
   "metadata": {
    "collapsed": true
   },
   "outputs": [],
   "source": [
    "# Метод __missing__ лежит в основе мехинизма \n",
    "#     обработки отсутствия ключей в отображениях;\n",
    "\n",
    "# Если создать подкласс dict и реализовать в нем метод __missing_,\n",
    "#     стандартный метод dict.__getitem__ будет обращаться к нему\n",
    "#         всякий раз, как не найдет ключ (вместо возбуждения KeyError)."
   ]
  },
  {
   "cell_type": "code",
   "execution_count": 56,
   "metadata": {
    "collapsed": true
   },
   "outputs": [],
   "source": [
    "# Метод __missing__ вызывается только из метода __getitem__ \n",
    "#     (то есть при выполнении оператора d[k]);\n",
    "\n",
    "# Наличие __missing__ не влияет на поведение других методов,\n",
    "#     производящих поиск по ключу, например get или __contains__ (оператор in);\n",
    "\n",
    "# Поэтому атрибут default_factory объекта defaultdict \n",
    "#     работает только с __getitem___."
   ]
  },
  {
   "cell_type": "code",
   "execution_count": 57,
   "metadata": {
    "collapsed": true
   },
   "outputs": [],
   "source": [
    "# Допустим, нам требуеутся отображение,\n",
    "#     в котором ключ перед поиском преобразуется в тип str:"
   ]
  },
  {
   "cell_type": "code",
   "execution_count": 59,
   "metadata": {
    "collapsed": true
   },
   "outputs": [],
   "source": [
    "class StrKeyDict0(dict): # StrKeyDict0 наследует dict\n",
    "    \n",
    "    def __missing__(self, key):\n",
    "        if isinstance(key, str): # проверяем, принадлежит ли key типу str\n",
    "            raise KeyError(key) # если да и отсутсвует, то возбуждаем исключ-е\n",
    "        return self[str(key)] # преобразуем key в str и ищем\n",
    "    \n",
    "    def get(self, key, default=None):\n",
    "        try:\n",
    "            return self[key] # get делегирует работу методу __getitem__\n",
    "        except KeyError:\n",
    "            return default # метод __missing__ уже выдал ошибку\n",
    "    \n",
    "    def __contains__(self, key): # ищем сначала key, потом - str(key)\n",
    "        return key in self.keys() or str(key) in self.keys()\n",
    "    \n",
    "# без проверки isinstance(key, str) в случае, \n",
    "#     если ключ str(k) не существует, возникает бесконечная рекурсия\n",
    "\n",
    "# метод __contains__ отвечает за проверку через оператор in,\n",
    "#     но не обращается к __missing__ в случае отсутствия ключа;\n",
    "\n",
    "# в Python 3 поиск вида k in my_dict.keys() эффективен \n",
    "#     даже для очень больших отображений, в отличие от Python 2"
   ]
  },
  {
   "cell_type": "code",
   "execution_count": 62,
   "metadata": {
    "collapsed": false
   },
   "outputs": [],
   "source": [
    "d = StrKeyDict0([('2', 'two'), ('4', 'four')])"
   ]
  },
  {
   "cell_type": "code",
   "execution_count": 63,
   "metadata": {
    "collapsed": false
   },
   "outputs": [
    {
     "data": {
      "text/plain": [
       "'two'"
      ]
     },
     "execution_count": 63,
     "metadata": {},
     "output_type": "execute_result"
    }
   ],
   "source": [
    "d['2']"
   ]
  },
  {
   "cell_type": "code",
   "execution_count": 64,
   "metadata": {
    "collapsed": false
   },
   "outputs": [
    {
     "data": {
      "text/plain": [
       "'four'"
      ]
     },
     "execution_count": 64,
     "metadata": {},
     "output_type": "execute_result"
    }
   ],
   "source": [
    "d[4]"
   ]
  },
  {
   "cell_type": "code",
   "execution_count": 69,
   "metadata": {
    "collapsed": false
   },
   "outputs": [
    {
     "name": "stdout",
     "output_type": "stream",
     "text": [
      "True\n"
     ]
    }
   ],
   "source": [
    "try:\n",
    "    d[1]\n",
    "except KeyError:\n",
    "    print(True)"
   ]
  },
  {
   "cell_type": "code",
   "execution_count": 70,
   "metadata": {
    "collapsed": false
   },
   "outputs": [
    {
     "data": {
      "text/plain": [
       "'two'"
      ]
     },
     "execution_count": 70,
     "metadata": {},
     "output_type": "execute_result"
    }
   ],
   "source": [
    "d.get('2')"
   ]
  },
  {
   "cell_type": "code",
   "execution_count": 71,
   "metadata": {
    "collapsed": false
   },
   "outputs": [
    {
     "data": {
      "text/plain": [
       "'four'"
      ]
     },
     "execution_count": 71,
     "metadata": {},
     "output_type": "execute_result"
    }
   ],
   "source": [
    "d.get(4)"
   ]
  },
  {
   "cell_type": "code",
   "execution_count": 73,
   "metadata": {
    "collapsed": false
   },
   "outputs": [
    {
     "data": {
      "text/plain": [
       "'N/A'"
      ]
     },
     "execution_count": 73,
     "metadata": {},
     "output_type": "execute_result"
    }
   ],
   "source": [
    "d.get(1, 'N/A')"
   ]
  },
  {
   "cell_type": "code",
   "execution_count": 75,
   "metadata": {
    "collapsed": false
   },
   "outputs": [
    {
     "data": {
      "text/plain": [
       "True"
      ]
     },
     "execution_count": 75,
     "metadata": {},
     "output_type": "execute_result"
    }
   ],
   "source": [
    "2 in d"
   ]
  },
  {
   "cell_type": "code",
   "execution_count": 77,
   "metadata": {
    "collapsed": false
   },
   "outputs": [
    {
     "data": {
      "text/plain": [
       "True"
      ]
     },
     "execution_count": 77,
     "metadata": {},
     "output_type": "execute_result"
    }
   ],
   "source": [
    "'2' in d"
   ]
  },
  {
   "cell_type": "code",
   "execution_count": 76,
   "metadata": {
    "collapsed": false
   },
   "outputs": [
    {
     "data": {
      "text/plain": [
       "False"
      ]
     },
     "execution_count": 76,
     "metadata": {},
     "output_type": "execute_result"
    }
   ],
   "source": [
    "1 in d"
   ]
  },
  {
   "cell_type": "markdown",
   "metadata": {
    "collapsed": true
   },
   "source": [
    "### Вариации на тему dict"
   ]
  },
  {
   "cell_type": "code",
   "execution_count": 79,
   "metadata": {
    "collapsed": true
   },
   "outputs": [],
   "source": [
    "# Помимо defaultdict в стандартную библиотеку \n",
    "#     включены следующие типы отображений:"
   ]
  },
  {
   "cell_type": "markdown",
   "metadata": {
    "collapsed": true
   },
   "source": [
    "##### collections.OrderedDict"
   ]
  },
  {
   "cell_type": "code",
   "execution_count": null,
   "metadata": {
    "collapsed": true
   },
   "outputs": [],
   "source": [
    "# Ключи хранятся в том порядке, в котором вставлялись - порядок предсказуем;\n",
    "\n",
    "# Метод popitem по умолчанию удаляет и возвращает первый элемент,\n",
    "#     но если вызывается так: my_odict.popitem(last=True), то последний."
   ]
  },
  {
   "cell_type": "markdown",
   "metadata": {
    "collapsed": true
   },
   "source": [
    "##### collections.ChainMap"
   ]
  },
  {
   "cell_type": "code",
   "execution_count": 82,
   "metadata": {
    "collapsed": true
   },
   "outputs": [],
   "source": [
    "# Хранит список отображений, \n",
    "#     так что их можно просматривать как единое целое;\n",
    "\n",
    "# Поиск производится в каждом отображении по порядку и завершается успешно,\n",
    "#     если ключ найден хотя бы в одном."
   ]
  },
  {
   "cell_type": "code",
   "execution_count": 85,
   "metadata": {
    "collapsed": false
   },
   "outputs": [],
   "source": [
    "from collections import ChainMap\n",
    "import builtins\n",
    "\n",
    "pylookup = ChainMap(locals(), globals(), vars(builtins))"
   ]
  },
  {
   "cell_type": "markdown",
   "metadata": {
    "collapsed": true
   },
   "source": [
    "##### collections.Counter"
   ]
  },
  {
   "cell_type": "code",
   "execution_count": 87,
   "metadata": {
    "collapsed": true
   },
   "outputs": [],
   "source": [
    "# Отображение, в котором с каждым ключом ассоциирован счетчик;\n",
    "\n",
    "# Класс можно использовать для подсчета хэшируемых объектов (ключей)\n",
    "#     или в качестве мультимножества - множества, \n",
    "#         в которое каждый элемент может входить несколько раз;\n",
    "\n",
    "\n",
    "# В классе Counter реализованы операторы + и - для объединения серий,\n",
    "#     а также другие полезные методы, как most_common([n]),\n",
    "#         возвращающий упорядоченный список кортежей,\n",
    "#             содержищий n самых часто встречающихся элементов\n",
    "#                 вместе с их счетчиками."
   ]
  },
  {
   "cell_type": "code",
   "execution_count": 90,
   "metadata": {
    "collapsed": false
   },
   "outputs": [
    {
     "data": {
      "text/plain": [
       "Counter({'a': 5, 'b': 2, 'c': 1, 'd': 1, 'r': 2})"
      ]
     },
     "execution_count": 90,
     "metadata": {},
     "output_type": "execute_result"
    }
   ],
   "source": [
    "ct = collections.Counter('abracadabra')\n",
    "ct"
   ]
  },
  {
   "cell_type": "code",
   "execution_count": 91,
   "metadata": {
    "collapsed": false
   },
   "outputs": [
    {
     "data": {
      "text/plain": [
       "Counter({'a': 10, 'b': 2, 'c': 1, 'd': 1, 'r': 2, 'z': 3})"
      ]
     },
     "execution_count": 91,
     "metadata": {},
     "output_type": "execute_result"
    }
   ],
   "source": [
    "ct.update('aaaaazzz')\n",
    "ct"
   ]
  },
  {
   "cell_type": "code",
   "execution_count": 92,
   "metadata": {
    "collapsed": false
   },
   "outputs": [
    {
     "data": {
      "text/plain": [
       "[('a', 10), ('z', 3)]"
      ]
     },
     "execution_count": 92,
     "metadata": {},
     "output_type": "execute_result"
    }
   ],
   "source": [
    "ct.most_common(2)"
   ]
  },
  {
   "cell_type": "markdown",
   "metadata": {
    "collapsed": true
   },
   "source": [
    "##### collections.UserDict"
   ]
  },
  {
   "cell_type": "code",
   "execution_count": 94,
   "metadata": {
    "collapsed": true
   },
   "outputs": [],
   "source": [
    "# Реализацияя на чистом Python отображения,\n",
    "#     работающего как стандартный словарь dict;\n",
    "\n",
    "# UserDict редназначен для наследования."
   ]
  },
  {
   "cell_type": "markdown",
   "metadata": {
    "collapsed": true
   },
   "source": [
    "### Создание подкласса UserDict"
   ]
  },
  {
   "cell_type": "code",
   "execution_count": 97,
   "metadata": {
    "collapsed": true
   },
   "outputs": [],
   "source": [
    "# Почти всегда проще создать новый тип отображения\n",
    "#     путем расширения UserDict, а не dict;\n",
    "\n",
    "# Преимущество заключается в том,\n",
    "#     что реализация dict вынуждает нас переопределять те методы,\n",
    "#         которые мы могли бы без проблем унаследовать от UserDict;\n",
    "\n",
    "# UserDict не наследует dict, \n",
    "#     а хранит внутри себя экземпляр dict в атрибуте data,\n",
    "#         где и находятся сами элементы.\n",
    "\n",
    "# Это позволяет избегать нежелательных рекурсий\n",
    "#     и упрощает код __contains__."
   ]
  },
  {
   "cell_type": "code",
   "execution_count": null,
   "metadata": {
    "collapsed": true
   },
   "outputs": [],
   "source": [
    "import collections\n",
    "\n",
    "class StrKeyDict(collections.UserDict): # StrKeyDict расширяет UserDict\n",
    "    \n",
    "    def __missing__(self, key): # метод __missing__ остается прежним\n",
    "        if isinstance(key, str):\n",
    "            raise KeyError(key)\n",
    "        return self[str(key)]\n",
    "    \n",
    "    def __contains__(self, key):\n",
    "        return str(key) in self.data # метод __contains__ реализован проще\n",
    "    \n",
    "    def __setitem__(self, key, item):\n",
    "        self.data[str(key)] = item # преобразует любой ключ в str"
   ]
  },
  {
   "cell_type": "code",
   "execution_count": null,
   "metadata": {
    "collapsed": true
   },
   "outputs": [],
   "source": [
    "# Благодаря UserDict класс StrKeyDict получился короче StrKeyDict0,\n",
    "#     но умеет при этом больше: он хранит все ключи в виде str,\n",
    "#         обходя неприятные сюрпризы с нестроковыми ключами."
   ]
  },
  {
   "cell_type": "code",
   "execution_count": 98,
   "metadata": {
    "collapsed": true
   },
   "outputs": [],
   "source": [
    "# Поскольку UserDict - подкласс MutableMapping, \n",
    "#     остальные использующиеся методы отображения\n",
    "#         наследуются от UserDict, MutableMapping или Mapping;\n",
    "\n",
    "# В двух последних также есь полезные методы:"
   ]
  },
  {
   "cell_type": "markdown",
   "metadata": {
    "collapsed": true
   },
   "source": [
    "##### MutableMapping.update"
   ]
  },
  {
   "cell_type": "code",
   "execution_count": 100,
   "metadata": {
    "collapsed": true
   },
   "outputs": [],
   "source": [
    "# Этот метод вызывается как напрямую, \n",
    "#     так и методом __init__ для инициализации экземпляра отображениями,\n",
    "#         и итерируемыми объектами с парами (key, value),\n",
    "#             и именованными аргументами;\n",
    "\n",
    "# Поскольку для добавления элементов \n",
    "#     в нем используется конструкция self(key) = value,\n",
    "#         то в конечном итоге будет вызвана реализация __setitem__."
   ]
  },
  {
   "cell_type": "markdown",
   "metadata": {
    "collapsed": true
   },
   "source": [
    "##### Mapping.get"
   ]
  },
  {
   "cell_type": "code",
   "execution_count": null,
   "metadata": {
    "collapsed": true
   },
   "outputs": [],
   "source": [
    "# Метод Mapping.get, унаследованный StrKeyDict,\n",
    "#     реализован так же, как метод get в StrKeyDict0 \n",
    "#         (последний реализован нами самостоятельно)."
   ]
  },
  {
   "cell_type": "markdown",
   "metadata": {
    "collapsed": true
   },
   "source": [
    "### Неизменяемые отображения"
   ]
  },
  {
   "cell_type": "code",
   "execution_count": 103,
   "metadata": {
    "collapsed": true
   },
   "outputs": [],
   "source": [
    "# Иноогда нужно гарантировать, \n",
    "#     что пользователь не может по ошибке модифицировать отображение.\n",
    "\n",
    "# На помощь приходит класс-обертка MappingProxyType:"
   ]
  },
  {
   "cell_type": "code",
   "execution_count": 104,
   "metadata": {
    "collapsed": false
   },
   "outputs": [
    {
     "data": {
      "text/plain": [
       "mappingproxy({1: 'A'})"
      ]
     },
     "execution_count": 104,
     "metadata": {},
     "output_type": "execute_result"
    }
   ],
   "source": [
    "from types import MappingProxyType\n",
    "\n",
    "d = {1: 'A'}\n",
    "\n",
    "d_proxy = MappingProxyType(d)\n",
    "d_proxy"
   ]
  },
  {
   "cell_type": "code",
   "execution_count": 105,
   "metadata": {
    "collapsed": false
   },
   "outputs": [
    {
     "data": {
      "text/plain": [
       "'A'"
      ]
     },
     "execution_count": 105,
     "metadata": {},
     "output_type": "execute_result"
    }
   ],
   "source": [
    "d_proxy[1]"
   ]
  },
  {
   "cell_type": "code",
   "execution_count": 106,
   "metadata": {
    "collapsed": false
   },
   "outputs": [
    {
     "ename": "KeyError",
     "evalue": "2",
     "output_type": "error",
     "traceback": [
      "\u001b[0;31m---------------------------------------------------------------------------\u001b[0m",
      "\u001b[0;31mKeyError\u001b[0m                                  Traceback (most recent call last)",
      "\u001b[0;32m<ipython-input-106-8410f7918289>\u001b[0m in \u001b[0;36m<module>\u001b[0;34m()\u001b[0m\n\u001b[0;32m----> 1\u001b[0;31m \u001b[0md_proxy\u001b[0m\u001b[1;33m[\u001b[0m\u001b[1;36m2\u001b[0m\u001b[1;33m]\u001b[0m\u001b[1;33m\u001b[0m\u001b[0m\n\u001b[0m",
      "\u001b[0;31mKeyError\u001b[0m: 2"
     ]
    }
   ],
   "source": [
    "d_proxy[2]"
   ]
  },
  {
   "cell_type": "code",
   "execution_count": 107,
   "metadata": {
    "collapsed": false
   },
   "outputs": [
    {
     "ename": "TypeError",
     "evalue": "'mappingproxy' object does not support item assignment",
     "output_type": "error",
     "traceback": [
      "\u001b[0;31m---------------------------------------------------------------------------\u001b[0m",
      "\u001b[0;31mTypeError\u001b[0m                                 Traceback (most recent call last)",
      "\u001b[0;32m<ipython-input-107-2515ac52334f>\u001b[0m in \u001b[0;36m<module>\u001b[0;34m()\u001b[0m\n\u001b[0;32m----> 1\u001b[0;31m \u001b[0md_proxy\u001b[0m\u001b[1;33m[\u001b[0m\u001b[1;36m2\u001b[0m\u001b[1;33m]\u001b[0m \u001b[1;33m=\u001b[0m \u001b[1;34m'x'\u001b[0m\u001b[1;33m\u001b[0m\u001b[0m\n\u001b[0m",
      "\u001b[0;31mTypeError\u001b[0m: 'mappingproxy' object does not support item assignment"
     ]
    }
   ],
   "source": [
    "d_proxy[2] = 'x'"
   ]
  },
  {
   "cell_type": "code",
   "execution_count": 108,
   "metadata": {
    "collapsed": true
   },
   "outputs": [],
   "source": [
    "d[2] = 'B'"
   ]
  },
  {
   "cell_type": "code",
   "execution_count": 109,
   "metadata": {
    "collapsed": false
   },
   "outputs": [
    {
     "data": {
      "text/plain": [
       "mappingproxy({1: 'A', 2: 'B'})"
      ]
     },
     "execution_count": 109,
     "metadata": {},
     "output_type": "execute_result"
    }
   ],
   "source": [
    "d_proxy # представление d_proxy динамическое"
   ]
  },
  {
   "cell_type": "code",
   "execution_count": 110,
   "metadata": {
    "collapsed": false
   },
   "outputs": [
    {
     "data": {
      "text/plain": [
       "'B'"
      ]
     },
     "execution_count": 110,
     "metadata": {},
     "output_type": "execute_result"
    }
   ],
   "source": [
    "d_proxy[2]"
   ]
  },
  {
   "cell_type": "markdown",
   "metadata": {
    "collapsed": true
   },
   "source": [
    "### Теория множеств"
   ]
  },
  {
   "cell_type": "markdown",
   "metadata": {
    "collapsed": true
   },
   "source": [
    "##### Множество - набор уникальных объектов"
   ]
  },
  {
   "cell_type": "code",
   "execution_count": 115,
   "metadata": {
    "collapsed": false
   },
   "outputs": [
    {
     "data": {
      "text/plain": [
       "['spam', 'eggs']"
      ]
     },
     "execution_count": 115,
     "metadata": {},
     "output_type": "execute_result"
    }
   ],
   "source": [
    "l = ['spam', 'spam', 'eggs', 'spam']\n",
    "list(set(l))"
   ]
  },
  {
   "cell_type": "markdown",
   "metadata": {
    "collapsed": true
   },
   "source": [
    "##### Элементы множества должны быть хэшируемыми"
   ]
  },
  {
   "cell_type": "code",
   "execution_count": 117,
   "metadata": {
    "collapsed": true
   },
   "outputs": [],
   "source": [
    "# Сам тип set хэшируемым не является,\n",
    "#     но тип frozenset хэшируемый,\n",
    "#         поэтому объекты типа frozenset могут быть элементами множества."
   ]
  },
  {
   "cell_type": "code",
   "execution_count": 118,
   "metadata": {
    "collapsed": true
   },
   "outputs": [],
   "source": [
    "# Множества предоставляют набор операций:\n",
    "\n",
    "#     - a | b - оъединение множеств;\n",
    "\n",
    "#     - a & b - пересечение множеств;\n",
    "\n",
    "#     - a - b - разность множеств.\n",
    "\n",
    "# Использование множественных операций помогает  \n",
    "#     как уменьшить время работы и объем программы,\n",
    "#         так и облегчить восприятие и осмысление кода."
   ]
  },
  {
   "cell_type": "code",
   "execution_count": 119,
   "metadata": {
    "collapsed": true
   },
   "outputs": [],
   "source": [
    "# Допустим, у нас есть большой набор почтовых адресов (haystack)\n",
    "#     и меньший набор адресов (needles);\n",
    "\n",
    "# Наша задача - подсчитать, \n",
    "#     сколько раз элементы needles встречаются в haystack.\n",
    "\n",
    "# Множества предлагают элегантное решение:"
   ]
  },
  {
   "cell_type": "code",
   "execution_count": null,
   "metadata": {
    "collapsed": true
   },
   "outputs": [],
   "source": [
    "found = len(set(needles) & set(haystack))"
   ]
  },
  {
   "cell_type": "code",
   "execution_count": 121,
   "metadata": {
    "collapsed": true
   },
   "outputs": [],
   "source": [
    "# Без использования пересечений пришлось бы строить цикл:"
   ]
  },
  {
   "cell_type": "code",
   "execution_count": null,
   "metadata": {
    "collapsed": true
   },
   "outputs": [],
   "source": [
    "found = 0\n",
    "for n in needles:\n",
    "    if n in haystack:\n",
    "        found += 1"
   ]
  },
  {
   "cell_type": "markdown",
   "metadata": {
    "collapsed": true
   },
   "source": [
    "##### Быстрая проверка вхождения в set и frozenset обеспечивается механизмом хэш-таблиц"
   ]
  },
  {
   "cell_type": "markdown",
   "metadata": {
    "collapsed": true
   },
   "source": [
    "#### Литеральные множества"
   ]
  },
  {
   "cell_type": "markdown",
   "metadata": {
    "collapsed": true
   },
   "source": [
    "##### Для создания пустого множества следует использовать set()"
   ]
  },
  {
   "cell_type": "code",
   "execution_count": 123,
   "metadata": {
    "collapsed": true
   },
   "outputs": [],
   "source": [
    "# Написав {}, мы объявим пустой словарь вместо множества!"
   ]
  },
  {
   "cell_type": "code",
   "execution_count": 137,
   "metadata": {
    "collapsed": false
   },
   "outputs": [
    {
     "name": "stdout",
     "output_type": "stream",
     "text": [
      "  1           0 LOAD_CONST               0 (1)\n",
      "              3 BUILD_SET                1\n",
      "              6 RETURN_VALUE\n"
     ]
    }
   ],
   "source": [
    "from dis import dis\n",
    "dis('{1}') # специальный байт-код BUILD_SET выполняет почти всю работу"
   ]
  },
  {
   "cell_type": "code",
   "execution_count": 138,
   "metadata": {
    "collapsed": false
   },
   "outputs": [
    {
     "name": "stdout",
     "output_type": "stream",
     "text": [
      "  1           0 LOAD_NAME                0 (set)\n",
      "              3 LOAD_CONST               0 (1)\n",
      "              6 BUILD_LIST               1\n",
      "              9 CALL_FUNCTION            1 (1 positional, 0 keyword pair)\n",
      "             12 RETURN_VALUE\n"
     ]
    }
   ],
   "source": [
    "dis('set([1])') # вместо BUILD_SET - LOAD_NAME, BUILD_LIST и CALL_FUNCTION"
   ]
  },
  {
   "cell_type": "code",
   "execution_count": 135,
   "metadata": {
    "collapsed": false
   },
   "outputs": [
    {
     "data": {
      "text/plain": [
       "True"
      ]
     },
     "execution_count": 135,
     "metadata": {},
     "output_type": "execute_result"
    }
   ],
   "source": [
    "set([1]) == {1}"
   ]
  },
  {
   "cell_type": "code",
   "execution_count": 139,
   "metadata": {
    "collapsed": true
   },
   "outputs": [],
   "source": [
    "# Для frozenset не существует строковых литералов,\n",
    "#     так что их приходится создавать с помощью конструктора:"
   ]
  },
  {
   "cell_type": "code",
   "execution_count": 141,
   "metadata": {
    "collapsed": false
   },
   "outputs": [
    {
     "data": {
      "text/plain": [
       "frozenset({0, 1, 2, 3, 4, 5, 6, 7, 8, 9})"
      ]
     },
     "execution_count": 141,
     "metadata": {},
     "output_type": "execute_result"
    }
   ],
   "source": [
    "frozenset(range(10))"
   ]
  },
  {
   "cell_type": "markdown",
   "metadata": {
    "collapsed": true
   },
   "source": [
    "#### Множественное включение"
   ]
  },
  {
   "cell_type": "code",
   "execution_count": 146,
   "metadata": {
    "collapsed": false
   },
   "outputs": [
    {
     "data": {
      "text/plain": [
       "{'#',\n",
       " '$',\n",
       " '%',\n",
       " '+',\n",
       " '<',\n",
       " '=',\n",
       " '>',\n",
       " '¢',\n",
       " '£',\n",
       " '¤',\n",
       " '¥',\n",
       " '§',\n",
       " '©',\n",
       " '¬',\n",
       " '®',\n",
       " '°',\n",
       " '±',\n",
       " 'µ',\n",
       " '¶',\n",
       " '×',\n",
       " '÷'}"
      ]
     },
     "execution_count": 146,
     "metadata": {},
     "output_type": "execute_result"
    }
   ],
   "source": [
    "from unicodedata import name # для получения названий символов\n",
    "\n",
    "{chr(i) for i in range(32, 256) if 'SIGN' in name(chr(i), '')}"
   ]
  },
  {
   "cell_type": "markdown",
   "metadata": {
    "collapsed": true
   },
   "source": [
    "#### Операции над множествами"
   ]
  },
  {
   "cell_type": "code",
   "execution_count": 148,
   "metadata": {
    "collapsed": true
   },
   "outputs": [
    {
     "data": {
      "text/plain": [
       "Ellipsis"
      ]
     },
     "execution_count": 148,
     "metadata": {},
     "output_type": "execute_result"
    }
   ],
   "source": [
    "..."
   ]
  },
  {
   "cell_type": "markdown",
   "metadata": {
    "collapsed": true
   },
   "source": [
    "### Под капотом dict и set"
   ]
  },
  {
   "cell_type": "code",
   "execution_count": 150,
   "metadata": {
    "collapsed": true
   },
   "outputs": [],
   "source": [
    "# Рассмотрим следующие вопросы:\n",
    "\n",
    "#     - Насколько эффективны классы dict и set в Python?\n",
    "\n",
    "#     - Почему они не упорядочены?\n",
    "\n",
    "#     - Почему не каждый объект Python может быть элементом множества?\n",
    "\n",
    "#     - Почему нельзя добавлять в множество элементы во время обхода?"
   ]
  },
  {
   "cell_type": "markdown",
   "metadata": {
    "collapsed": true
   },
   "source": [
    "#### Экспериментальная демонстрация производительности"
   ]
  },
  {
   "cell_type": "code",
   "execution_count": 47,
   "metadata": {
    "collapsed": false
   },
   "outputs": [
    {
     "data": {
      "text/plain": [
       "Ellipsis"
      ]
     },
     "execution_count": 47,
     "metadata": {},
     "output_type": "execute_result"
    }
   ],
   "source": [
    "..."
   ]
  },
  {
   "cell_type": "markdown",
   "metadata": {
    "collapsed": true
   },
   "source": [
    "#### Хэш-таблицы в словарях"
   ]
  },
  {
   "cell_type": "markdown",
   "metadata": {
    "collapsed": true
   },
   "source": [
    "##### Сначала рассмотрим устройство класса dict, а затем распространим идеи на множества"
   ]
  },
  {
   "cell_type": "code",
   "execution_count": 3,
   "metadata": {
    "collapsed": true
   },
   "outputs": [],
   "source": [
    "# Хэш-таблица - разреженный массив\n",
    "#     (массив, в котором имеются незаполненные позиции);\n",
    "\n",
    "# В хэш-таблице каждому элементу соответстует ячейка,\n",
    "#     содержащая два поля: ссылку на ключ и ссылку на значение;\n",
    "\n",
    "# Python стремится оставить не менее трети ячеек пустыми:\n",
    "#     если хэш-таблица становится заполненной, \n",
    "#         она копируется в новый участок памяти;\n",
    "\n",
    "# Для помещения элемента в хэш-таблицу\n",
    "#     нужно первым делом вычислить хэш-значение элемента;\n",
    "\n",
    "# Это делает встроенная функция hash()."
   ]
  },
  {
   "cell_type": "markdown",
   "metadata": {},
   "source": [
    "##### Хэш-значенияя и равенство"
   ]
  },
  {
   "cell_type": "code",
   "execution_count": 4,
   "metadata": {
    "collapsed": true
   },
   "outputs": [],
   "source": [
    "# Встроенная функция hash() работает со встроенными типами напрямую,\n",
    "#     а для пользовательских типов обращается к методу __hash__;\n",
    "\n",
    "# Два объекта с одинаковым значением\n",
    "#     имеют одинаковые хэш-значения - идея алгоритма хэш-таблицы;"
   ]
  },
  {
   "cell_type": "code",
   "execution_count": 7,
   "metadata": {
    "collapsed": false
   },
   "outputs": [],
   "source": [
    "assert hash(1.0) == hash(1)"
   ]
  },
  {
   "cell_type": "code",
   "execution_count": 9,
   "metadata": {
    "collapsed": true
   },
   "outputs": [],
   "source": [
    "# Хэш-значения эффективны, \n",
    "#     когда равномерно распределены по всему пространству индексов;\n",
    "\n",
    "# Так что хэши похожих, но неодинаковых объектов\n",
    "#     должны сильно различаться."
   ]
  },
  {
   "cell_type": "code",
   "execution_count": 10,
   "metadata": {
    "collapsed": true
   },
   "outputs": [],
   "source": [
    "# С версии Python 3.3 в хэши объектов str, bytes и datetime\n",
    "#     добавлена случайная завтравка;\n",
    "\n",
    "# Ее смысл - защититься от DOS-атак."
   ]
  },
  {
   "cell_type": "markdown",
   "metadata": {},
   "source": [
    "##### Алгоритм работы хэш-таблицы"
   ]
  },
  {
   "cell_type": "code",
   "execution_count": 13,
   "metadata": {
    "collapsed": true
   },
   "outputs": [],
   "source": [
    "# Для выборки значения с помощью выражения my_dict(search_key)\n",
    "#     Python обращается к функции hash(search_key),\n",
    "#         получает хэш-значение search-key;\n",
    "\n",
    "# Если найденная ячейка пуста, возбуждается исключение KeyError;\n",
    "\n",
    "# В противном случае в ячейке есть элемент -\n",
    "#     пара (found_key: found_value), и тогда Python проверяет,\n",
    "#         верно ли, что search_key == found_key;\n",
    "\n",
    "# Если да, то элемент найден и возваращется found_value."
   ]
  },
  {
   "cell_type": "code",
   "execution_count": 16,
   "metadata": {
    "collapsed": true
   },
   "outputs": [],
   "source": [
    "# Если же search_key и found_key не совпали,\n",
    "#     то имеет место коллизия хэширования."
   ]
  },
  {
   "cell_type": "code",
   "execution_count": 15,
   "metadata": {
    "collapsed": true
   },
   "outputs": [],
   "source": [
    "# В случае вставки/изменения элемента \n",
    "#     прошлое значение заменяется новым."
   ]
  },
  {
   "cell_type": "markdown",
   "metadata": {},
   "source": [
    "#### Практические последствия механизма работы dict"
   ]
  },
  {
   "cell_type": "markdown",
   "metadata": {},
   "source": [
    "##### Ключи должны быть хэшируемыми объектами"
   ]
  },
  {
   "cell_type": "code",
   "execution_count": 19,
   "metadata": {
    "collapsed": true
   },
   "outputs": [],
   "source": [
    "# Объект хэшируемый, если удовлетворяет всем следующим условиям:\n",
    "\n",
    "#     - Поддерживает функцию hash() \n",
    "#           благодаря наличию метода __hash__,\n",
    "#               возвращающего одно и то же значение \n",
    "#                   на протяжении всей жизни объекта;\n",
    "\n",
    "#     - Поддерживает сравнение на равенство\n",
    "#           с помощью метода __eq__;\n",
    "\n",
    "#     - Если выражение a == b равно True, \n",
    "#           то выражение hash(a) == hash(b) также должно быть равно True."
   ]
  },
  {
   "cell_type": "markdown",
   "metadata": {},
   "source": [
    "##### Пользовательские типы по умолчанию хэшируемые"
   ]
  },
  {
   "cell_type": "code",
   "execution_count": 21,
   "metadata": {
    "collapsed": true
   },
   "outputs": [],
   "source": [
    "# Так как их хэш-значение равно уникальному значению функции (id)."
   ]
  },
  {
   "cell_type": "code",
   "execution_count": 22,
   "metadata": {
    "collapsed": true
   },
   "outputs": [],
   "source": [
    "# Если в классе реализован метод __eq__,\n",
    "#     мы должны согласованно реализовать и метод __hash__, \n",
    "#         так как необходимо гарантировать,\n",
    "#             что если a == b равно True,\n",
    "#                 то и hash(a) == hash(b) равно True;\n",
    "\n",
    "# Иначе будет нарушен алгоритм хэш-таблицы, \n",
    "#     а словари и множества не смогут функционировать.\n",
    "\n",
    "# Если метод __eq__ зависит от изменяемого состояния,\n",
    "#     то метод __hash__ должен возбуждать исключение TypeError\n",
    "#         с сообщением вроде unhashable type: 'MyClass'."
   ]
  },
  {
   "cell_type": "markdown",
   "metadata": {},
   "source": [
    "##### У словарей большие накладные расходы в части памяти"
   ]
  },
  {
   "cell_type": "code",
   "execution_count": 25,
   "metadata": {
    "collapsed": true
   },
   "outputs": [],
   "source": [
    "# При использовании разреженных таблиц память используеутся неэффективно;\n",
    "\n",
    "# При обработке большого числа записей \n",
    "#     лучше хранить их в списке кортежей или именованных кортежей,\n",
    "#         а не в списке кортежей в духе JSON,\n",
    "#             с одним объектом dict на каждую запись.\n",
    "\n",
    "# Замна словарей кортежами снижает потреблением памяти:\n",
    "\n",
    "#     - За счет устранения накладных расходов \n",
    "#           на хранение хэш-таблицы в каждой записи;\n",
    "\n",
    "#     - В силу того, что имена полей \n",
    "#           вынесены за пределы записей. \n",
    "\n",
    "# Оптимизация оправдана в случае работы\n",
    "#     с действительно большими объемами."
   ]
  },
  {
   "cell_type": "markdown",
   "metadata": {},
   "source": [
    "##### Поиск по ключу выполняется очень быстро"
   ]
  },
  {
   "cell_type": "code",
   "execution_count": 27,
   "metadata": {
    "collapsed": true
   },
   "outputs": [],
   "source": [
    "# Реализация dict жертвует памятью ради скорости:\n",
    "#     накладные расходы словаря велики,\n",
    "#         зато доступ производится быстро независимо от размера словаря."
   ]
  },
  {
   "cell_type": "markdown",
   "metadata": {},
   "source": [
    "##### Упорядочение ключей зависит от порядка вставки"
   ]
  },
  {
   "cell_type": "code",
   "execution_count": null,
   "metadata": {
    "collapsed": true
   },
   "outputs": [],
   "source": [
    "# При возникновении коллизий второй ключ оказывается в позиции,\n",
    "#     которую не должен был занимать, если бы был вставлен первым;\n",
    "\n",
    "# Соответственно, в случае коллизий порядок ключей\n",
    "#     различается в двух словарях d([(k1: v1), (k2: v2)])\n",
    "#         и d([(k2: v2), (k1: v1)]);"
   ]
  },
  {
   "cell_type": "markdown",
   "metadata": {},
   "source": [
    "##### При добавлении новых элементов в словарь может измениться порядок существующих ключей"
   ]
  },
  {
   "cell_type": "code",
   "execution_count": 39,
   "metadata": {
    "collapsed": true
   },
   "outputs": [],
   "source": [
    "# При добавлении нового элемента интерпретатор может решить,\n",
    "#     что хэш-таблицу следует перестроить;\n",
    "\n",
    "# Во время операции перестановки может возникнуть коллизия,\n",
    "#     из-за чего ключи будут упордочены по-другому;\n",
    "\n",
    "# Соответственно, при обходе всех ключей словаря\n",
    "#     и одновременном их изменении могуть быть пропущены элементы;\n",
    "\n",
    "# Безопаснее работать с копиями словаря благодаря методу copy()."
   ]
  },
  {
   "cell_type": "markdown",
   "metadata": {},
   "source": [
    "#### Как работают множества"
   ]
  },
  {
   "cell_type": "code",
   "execution_count": 41,
   "metadata": {
    "collapsed": true
   },
   "outputs": [],
   "source": [
    "# И set, и frozenset реализованы с помощью хэш-таблиц,\n",
    "#     в каждой ячейке которых хранится ссылка на элемент\n",
    "#         (будто ключ словаря, но без значения);\n",
    "\n",
    "# Элементы множества должны быть хэшируемыми объектами;\n",
    "\n",
    "# Множества включают в себя значительные накладные расходы в памяти;\n",
    "\n",
    "# Проверка принадлежности к множеству очень эффективна;\n",
    "\n",
    "# Упорядочение элементов зависит от порядка вставки;\n",
    "\n",
    "# Добавление новых элементов в множество\n",
    "#     может привести к изменению порядка существующих.     "
   ]
  },
  {
   "cell_type": "markdown",
   "metadata": {},
   "source": [
    "### Резюме"
   ]
  },
  {
   "cell_type": "markdown",
   "metadata": {},
   "source": [
    "##### Словари - краеугольный камень Python."
   ]
  },
  {
   "cell_type": "code",
   "execution_count": 44,
   "metadata": {
    "collapsed": true
   },
   "outputs": [],
   "source": [
    "# Помимо базового класса dict, \n",
    "#     в стандартной библиотеке есть удобные отображения:\n",
    "\n",
    "#         - collections.defaultdict;\n",
    "\n",
    "#         - collections.OrderedDict;\n",
    "\n",
    "#         - collections.ChainMap;\n",
    "\n",
    "#         - collections.Counter;\n",
    "\n",
    "# Там же находится класс расширения UserDict."
   ]
  },
  {
   "cell_type": "code",
   "execution_count": 45,
   "metadata": {
    "collapsed": true
   },
   "outputs": [],
   "source": [
    "# Полезные методы большинства отображений -\n",
    "#     setdefault и update;\n",
    "\n",
    "# Метод setdefault модифицирует элементы,\n",
    "#     содержащие изменяемые значения (такие как list),\n",
    "#         чтобы избежать повторных операций поиска того же ключа;\n",
    "\n",
    "# Метод update облегчает массовую вставку и перезапись элементов,\n",
    "#     когда новые элементы берутся из другого отображения,\n",
    "#         из итерируемого объекта с парами (key: value)\n",
    "#             или из именованных аргументов;\n",
    "\n",
    "# Конструкторы отображений также пользуются методом update."
   ]
  },
  {
   "cell_type": "code",
   "execution_count": null,
   "metadata": {
    "collapsed": true
   },
   "outputs": [],
   "source": [
    "# В API отображений имеется метод __missing__, позволяющий определить, \n",
    "#     что должно происходить в случае отсутствия ключа."
   ]
  },
  {
   "cell_type": "code",
   "execution_count": 46,
   "metadata": {
    "collapsed": true
   },
   "outputs": [],
   "source": [
    "# Модуль collections.abc содержит абстрактные базовые классы \n",
    "#     Mapping и MutableMapping для справки и контроля типов;\n",
    "\n",
    "# Малоизвестный класс MappingProxyType из модуля types\n",
    "#     позволяет создавать неизменяемые отображения."
   ]
  },
  {
   "cell_type": "code",
   "execution_count": null,
   "metadata": {
    "collapsed": true
   },
   "outputs": [],
   "source": [
    "# Реализация хэш-таблицы, лежащей в основе классов dict и set,\n",
    "#     работает очень быстро;\n",
    "\n",
    "# А понимание ее логики объясняет,\n",
    "#     почему элементы кажутся неупорядоенными, \n",
    "#         и их порядок может неожиданно измениться;\n",
    "\n",
    "# Расплачиваемся же мы за быстродействие памятью."
   ]
  }
 ],
 "metadata": {
  "anaconda-cloud": {},
  "kernelspec": {
   "display_name": "Python [default]",
   "language": "python",
   "name": "python3"
  },
  "language_info": {
   "codemirror_mode": {
    "name": "ipython",
    "version": 3
   },
   "file_extension": ".py",
   "mimetype": "text/x-python",
   "name": "python",
   "nbconvert_exporter": "python",
   "pygments_lexer": "ipython3",
   "version": "3.5.2"
  }
 },
 "nbformat": 4,
 "nbformat_minor": 1
}
